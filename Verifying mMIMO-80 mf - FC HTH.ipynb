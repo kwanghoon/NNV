{
 "cells": [
  {
   "cell_type": "markdown",
   "metadata": {},
   "source": [
    "# Global Configurations"
   ]
  },
  {
   "cell_type": "markdown",
   "metadata": {},
   "source": [
    "# Initialization"
   ]
  },
  {
   "cell_type": "code",
   "execution_count": 1,
   "metadata": {},
   "outputs": [],
   "source": [
    "#######################\n",
    "# HOME_DIR 경로 설정  #\n",
    "#######################\n",
    "HOME_DIR = 'D:/Work/Research/AI/wireless/' # 'M:/Archive/Google Drive/'   \n",
    "\n",
    "SOURCE_CODE_DIR = HOME_DIR + '' # 'Archive/Source Codes/Jupyter/Antenna Selection Exp02/'\n",
    "\n",
    "####################################################\n",
    "# Pickle 폴더에 별도 제공된 피클 데이터 파일 복사  #\n",
    "####################################################\n",
    "DB_DIR = SOURCE_CODE_DIR + 'Pickle/' # 'C:\\Digital Data\\Data/'\n",
    "\n",
    "LOG_DIR = SOURCE_CODE_DIR + 'Logs/'\n",
    "MODEL_DIR = SOURCE_CODE_DIR + 'Models/'\n",
    "WEIGHT_DIR = SOURCE_CODE_DIR + 'Weights/'\n",
    "HISTORY_DIR = SOURCE_CODE_DIR + 'History/'\n",
    "\n",
    "PYTORCHMODEL_DIR = SOURCE_CODE_DIR + 'PytorchModels/'\n",
    "\n",
    "DATA_USING = 'H'\n",
    "LABEL_TYPE = 'hard'\n",
    "CASE_TYPE = 'short'\n",
    "INPUT_SHAPE = 'HTH-1D'\n",
    "\n",
    "ADDITIONAL_STRING = ' mMIMO FC ' + DATA_USING + ' ' + LABEL_TYPE + ' ' + CASE_TYPE"
   ]
  },
  {
   "cell_type": "markdown",
   "metadata": {},
   "source": [
    "##### Set of Experiments (ONLY for FULLY-CONNECTED NETWORK)"
   ]
  },
  {
   "cell_type": "code",
   "execution_count": 2,
   "metadata": {},
   "outputs": [],
   "source": [
    "import numpy as np\n",
    "import matplotlib.pyplot as plt\n",
    "import pandas as pd\n",
    "\n",
    "\n",
    "import pickle\n",
    "import os\n",
    "import datetime\n",
    "import time"
   ]
  },
  {
   "attachments": {
    "image-2.png": {
     "image/png": "[encoded data removed]"
    }
   },
   "cell_type": "markdown",
   "metadata": {},
   "source": [
    "# Data Loading\n",
    "\n",
    "\n",
    "![image-2.png](attachment:image-2.png)"
   ]
  },
  {
   "cell_type": "markdown",
   "metadata": {},
   "source": [
    "## Load Input File from pickle"
   ]
  },
  {
   "cell_type": "markdown",
   "metadata": {},
   "source": [
    "## Assign Train and Test Data"
   ]
  },
  {
   "cell_type": "code",
   "execution_count": 3,
   "metadata": {},
   "outputs": [
    {
     "name": "stdout",
     "output_type": "stream",
     "text": [
      "D:/Work/Research/AI/wireless/Pickle/mMIMO_AS_training_data_20000_80_H_HTH_ORG_1D.pickle\n",
      "D:/Work/Research/AI/wireless/Pickle/mMIMO_AS_training_data_20000_80_labelVal.pickle\n",
      "D:/Work/Research/AI/wireless/Pickle/mMIMO_AS_training_data_20000_80_labelVal01.pickle\n"
     ]
    }
   ],
   "source": [
    "file_name_head = \"mMIMO_AS_training_data_20000_80_\"\n",
    "file_name_tail = \".pickle\"\n",
    "\n",
    "pickle_H_HTH_ORG_1D = file_name_head + \"H_HTH_ORG_1D\" + file_name_tail\n",
    "pickle_labelVal = file_name_head + \"labelVal\" + file_name_tail\n",
    "pickle_labelVal01 = file_name_head + \"labelVal01\" + file_name_tail\n",
    "\n",
    "pickle_dir_data = DB_DIR + pickle_H_HTH_ORG_1D\n",
    "print(pickle_dir_data)\n",
    "with open(pickle_dir_data, 'rb') as f:\n",
    "    H_inputVal_all = pickle.load(f)\n",
    "\n",
    "pickle_dir_data = DB_DIR + pickle_labelVal\n",
    "print(pickle_dir_data)\n",
    "with open(pickle_dir_data, 'rb') as f:\n",
    "    labelVal_all = pickle.load(f)\n",
    "\n",
    "pickle_dir_data = DB_DIR + pickle_labelVal01\n",
    "print(pickle_dir_data)\n",
    "with open(pickle_dir_data, 'rb') as f:\n",
    "    labelVal01_all = pickle.load(f)"
   ]
  },
  {
   "cell_type": "code",
   "execution_count": 4,
   "metadata": {},
   "outputs": [],
   "source": [
    "numberOfAntenna = 16\n",
    "\n",
    "no_dataInFile = 20000\n",
    "\n",
    "############# Training DATA\n",
    "\n",
    "no_testDataFiles = 78\n",
    "no_totalData = no_dataInFile * (no_testDataFiles)\n",
    "\n",
    "if DATA_USING == 'R':\n",
    "    inputSize = 192     # 2 * 2 * 2 * 2 * 2 * 2 * 3\n",
    "    inputVal = R_inputVal_all[:no_totalData,:]\n",
    "elif DATA_USING == 'H':\n",
    "    inputSize = numberOfAntenna * numberOfAntenna\n",
    "    inputVal = H_inputVal_all[:no_totalData,:]\n",
    "\n",
    "labelVal = labelVal_all[:no_totalData,:]\n",
    "labelVal01 = labelVal01_all[:no_totalData,:]\n",
    "\n",
    "############# Test DATA\n",
    "\n",
    "no_valDataFiles = 2\n",
    "no_totalValData = no_dataInFile * no_valDataFiles\n",
    "\n",
    "\n",
    "if DATA_USING == 'R':\n",
    "    inputSize = 192     # 2 * 2 * 2 * 2 * 2 * 2 * 3\n",
    "    testInputVal = R_inputVal_all[no_totalData:,:]\n",
    "elif DATA_USING == 'H':\n",
    "    inputSize = numberOfAntenna * numberOfAntenna\n",
    "    testInputVal = H_inputVal_all[no_totalData:,:]\n",
    "\n",
    "if INPUT_SHAPE == 'H-ARI-1D':\n",
    "    inputSize = 384\n",
    "    \n",
    "testLabelVal = labelVal_all[no_totalData:,:]\n",
    "testLabelVal01 = labelVal01_all[no_totalData:,:]"
   ]
  },
  {
   "cell_type": "code",
   "execution_count": 5,
   "metadata": {},
   "outputs": [
    {
     "name": "stdout",
     "output_type": "stream",
     "text": [
      "1560000\n",
      "40000\n",
      "(1600000, 256)\n",
      "(1600000, 16)\n",
      "(1600000, 16)\n",
      "====== INPUT(H) : (1560000, 256) 256\n",
      "[[0.43508627 0.23848953 0.17430991 ... 0.1494573  0.30463561 0.75840547]\n",
      " [0.91201586 0.14239275 0.35888622 ... 0.19680358 0.33829332 0.82588916]\n",
      " [0.38958044 0.19529653 0.12486362 ... 0.25814239 0.1255808  0.33462105]\n",
      " ...\n",
      " [0.2864378  0.2310919  0.14119503 ... 0.06365318 0.0519114  0.33934222]\n",
      " [0.92569351 0.22256976 0.21577545 ... 0.28583585 0.17893457 0.73793588]\n",
      " [0.57095904 0.11634311 0.03737261 ... 0.03271034 0.02874345 0.48409718]]\n",
      "====== LABEL : (1560000, 16)\n",
      "[[0.04384313 0.05183032 0.07402939 ... 0.07402939 0.05051586 0.07402939]\n",
      " [0.04217359 0.02302756 0.0729369  ... 0.07109003 0.0729369  0.0729369 ]\n",
      " [0.06612287 0.07401018 0.05073263 ... 0.07401018 0.07401018 0.02408138]\n",
      " ...\n",
      " [0.0699337  0.04693798 0.06201793 ... 0.0699337  0.0699337  0.04982493]\n",
      " [0.08032117 0.08032117 0.08032117 ... 0.08032117 0.04618059 0.08032117]\n",
      " [0.07990972 0.02283044 0.07990972 ... 0.07990972 0.02191744 0.04169159]]\n",
      "====== LABEL01 : (1560000, 16)\n",
      "[[0 0 1 ... 1 0 1]\n",
      " [0 0 1 ... 0 1 1]\n",
      " [0 1 0 ... 1 1 0]\n",
      " ...\n",
      " [1 0 0 ... 1 1 0]\n",
      " [1 1 1 ... 1 0 1]\n",
      " [1 0 1 ... 1 0 0]]\n",
      "================================================\n",
      "====== TEST INPUT(H) : (40000, 256) 256\n",
      "[[0.43508627 0.23848953 0.17430991 ... 0.1494573  0.30463561 0.75840547]\n",
      " [0.91201586 0.14239275 0.35888622 ... 0.19680358 0.33829332 0.82588916]\n",
      " [0.38958044 0.19529653 0.12486362 ... 0.25814239 0.1255808  0.33462105]\n",
      " ...\n",
      " [0.2864378  0.2310919  0.14119503 ... 0.06365318 0.0519114  0.33934222]\n",
      " [0.92569351 0.22256976 0.21577545 ... 0.28583585 0.17893457 0.73793588]\n",
      " [0.57095904 0.11634311 0.03737261 ... 0.03271034 0.02874345 0.48409718]]\n",
      "====== TEST LABEL : (40000, 16)\n",
      "[[0.07657935 0.04639355 0.07657935 ... 0.07657935 0.0438733  0.07657935]\n",
      " [0.06501209 0.0501676  0.07381366 ... 0.06977023 0.03985275 0.0298839 ]\n",
      " [0.07179931 0.01321105 0.06744875 ... 0.07179931 0.07179931 0.04214995]\n",
      " ...\n",
      " [0.02150067 0.0530908  0.06731576 ... 0.08189336 0.0530908  0.08189336]\n",
      " [0.07077694 0.07077694 0.04042426 ... 0.05194997 0.07077694 0.07077694]\n",
      " [0.04329611 0.0245611  0.08674601 ... 0.03210946 0.02017435 0.08674601]]\n",
      "====== TEST LABEL01 : (40000, 16)\n",
      "[[1 0 1 ... 1 0 1]\n",
      " [0 0 1 ... 0 0 0]\n",
      " [1 0 0 ... 1 1 0]\n",
      " ...\n",
      " [0 0 0 ... 1 0 1]\n",
      " [1 1 0 ... 0 1 1]\n",
      " [0 0 1 ... 0 0 1]]\n"
     ]
    }
   ],
   "source": [
    "print(no_totalData)\n",
    "print(no_totalValData)\n",
    "\n",
    "if DATA_USING == 'R':\n",
    "    print(R_inputVal_all.shape)\n",
    "elif DATA_USING == 'H':\n",
    "    print(H_inputVal_all.shape)\n",
    "print(labelVal_all.shape)\n",
    "print(labelVal01_all.shape)\n",
    "\n",
    "print('====== INPUT(' + DATA_USING + ') : ' + str(inputVal.shape) + ' ' + str(inputSize))\n",
    "print(inputVal)\n",
    "print('====== LABEL : ' + str(labelVal.shape))\n",
    "print(labelVal)\n",
    "print('====== LABEL01 : ' + str(labelVal01.shape))\n",
    "print(labelVal01)\n",
    "\n",
    "print('================================================')\n",
    "\n",
    "print('====== TEST INPUT(' + DATA_USING + ') : ' + str(testInputVal.shape) + ' ' + str(inputSize))\n",
    "print(inputVal)\n",
    "print('====== TEST LABEL : ' + str(testLabelVal.shape))\n",
    "print(testLabelVal)\n",
    "print('====== TEST LABEL01 : ' + str(testLabelVal01.shape))\n",
    "print(testLabelVal01)"
   ]
  },
  {
   "cell_type": "code",
   "execution_count": 6,
   "metadata": {},
   "outputs": [
    {
     "name": "stdout",
     "output_type": "stream",
     "text": [
      "Requirement already satisfied: torch in d:\\software\\users\\khchoi\\anaconda3\\lib\\site-packages (2.2.2)\n",
      "Requirement already satisfied: filelock in d:\\software\\users\\khchoi\\anaconda3\\lib\\site-packages (from torch) (3.13.1)\n",
      "Requirement already satisfied: typing-extensions>=4.8.0 in d:\\software\\users\\khchoi\\anaconda3\\lib\\site-packages (from torch) (4.9.0)\n",
      "Requirement already satisfied: sympy in d:\\software\\users\\khchoi\\anaconda3\\lib\\site-packages (from torch) (1.12)\n",
      "Requirement already satisfied: networkx in d:\\software\\users\\khchoi\\anaconda3\\lib\\site-packages (from torch) (3.1)\n",
      "Requirement already satisfied: jinja2 in d:\\software\\users\\khchoi\\anaconda3\\lib\\site-packages (from torch) (3.1.3)\n",
      "Requirement already satisfied: fsspec in d:\\software\\users\\khchoi\\anaconda3\\lib\\site-packages (from torch) (2023.10.0)\n",
      "Requirement already satisfied: MarkupSafe>=2.0 in d:\\software\\users\\khchoi\\anaconda3\\lib\\site-packages (from jinja2->torch) (2.1.3)\n",
      "Requirement already satisfied: mpmath>=0.19 in d:\\software\\users\\khchoi\\anaconda3\\lib\\site-packages (from sympy->torch) (1.3.0)\n"
     ]
    }
   ],
   "source": [
    "!pip install torch"
   ]
  },
  {
   "cell_type": "markdown",
   "metadata": {},
   "source": [
    "## Prepare for Data and Metrics "
   ]
  },
  {
   "cell_type": "markdown",
   "metadata": {},
   "source": [
    "## Model Setting"
   ]
  },
  {
   "cell_type": "code",
   "execution_count": 7,
   "metadata": {},
   "outputs": [
    {
     "name": "stdout",
     "output_type": "stream",
     "text": [
      "cpu\n",
      "WirelessModel(\n",
      "  (layer1): Linear(in_features=256, out_features=491, bias=False)\n",
      "  (bn1): BatchNorm1d(491, eps=1e-05, momentum=0.1, affine=True, track_running_stats=True)\n",
      "  (layer2): Linear(in_features=491, out_features=491, bias=False)\n",
      "  (bn2): BatchNorm1d(491, eps=1e-05, momentum=0.1, affine=True, track_running_stats=True)\n",
      "  (layer3): Linear(in_features=491, out_features=16, bias=False)\n",
      "  (bn3): BatchNorm1d(16, eps=1e-05, momentum=0.1, affine=True, track_running_stats=True)\n",
      ")\n"
     ]
    }
   ],
   "source": [
    "import torch\n",
    "import torch.nn as nn\n",
    "import torch.nn.functional as F\n",
    "\n",
    "from torch.optim.adam import Adam\n",
    "\n",
    "device = \"cuda\" if torch.cuda.is_available() else \"cpu\"\n",
    "print(device)\n",
    "\n",
    "class WirelessModel (nn.Module):\n",
    "    def __init__(self, numberOfAntenna):\n",
    "        super(WirelessModel, self).__init__()\n",
    "\n",
    "        # layer 1\n",
    "        self.layer1 = nn.Linear(numberOfAntenna*numberOfAntenna, 491, bias=False)    # numberOfAntenna*numberOfAntenna = 256\n",
    "        self.bn1 = nn.BatchNorm1d(491)\n",
    "\n",
    "        # layer 2\n",
    "        self.layer2 = nn.Linear(491, 491, bias=False)\n",
    "        self.bn2 = nn.BatchNorm1d(491)\n",
    "\n",
    "        # layer 3\n",
    "        self.layer3 = nn.Linear(491, numberOfAntenna, bias=False)     # numberOfAntenna = 16\n",
    "        self.bn3 = nn.BatchNorm1d(numberOfAntenna)\n",
    "\n",
    "        nn.init.kaiming_normal_(self.layer1.weight, mode='fan_in', nonlinearity='relu')\n",
    "        nn.init.kaiming_normal_(self.layer2.weight, mode='fan_in', nonlinearity='relu')\n",
    "        nn.init.kaiming_normal_(self.layer3.weight, mode='fan_in', nonlinearity='relu')\n",
    "\n",
    "    def forward(self, x):\n",
    "        # layer 1\n",
    "        x = self.layer1(x)\n",
    "        x = self.bn1(x)\n",
    "        x = F.relu(x)\n",
    "\n",
    "        # layer 2\n",
    "        x = self.layer2(x)\n",
    "        x = self.bn2(x)\n",
    "        x = F.relu(x)\n",
    "\n",
    "        # layer 3\n",
    "        x = self.layer3(x)\n",
    "        x = self.bn3(x)\n",
    "        x = torch.sigmoid(x)\n",
    "\n",
    "        return x\n",
    "\n",
    "wirelessModel = WirelessModel(16)\n",
    "\n",
    "wirelessModel.to(device)\n",
    "print(wirelessModel)"
   ]
  },
  {
   "cell_type": "code",
   "execution_count": 8,
   "metadata": {},
   "outputs": [
    {
     "name": "stdout",
     "output_type": "stream",
     "text": [
      "Requirement already satisfied: torchsummary in d:\\software\\users\\khchoi\\anaconda3\\lib\\site-packages (1.5.1)\n",
      "----------------------------------------------------------------\n",
      "        Layer (type)               Output Shape         Param #\n",
      "================================================================\n",
      "            Linear-1                  [-1, 491]         125,696\n",
      "       BatchNorm1d-2                  [-1, 491]             982\n",
      "            Linear-3                  [-1, 491]         241,081\n",
      "       BatchNorm1d-4                  [-1, 491]             982\n",
      "            Linear-5                   [-1, 16]           7,856\n",
      "       BatchNorm1d-6                   [-1, 16]              32\n",
      "================================================================\n",
      "Total params: 376,629\n",
      "Trainable params: 376,629\n",
      "Non-trainable params: 0\n",
      "----------------------------------------------------------------\n",
      "Input size (MB): 0.00\n",
      "Forward/backward pass size (MB): 0.02\n",
      "Params size (MB): 1.44\n",
      "Estimated Total Size (MB): 1.45\n",
      "----------------------------------------------------------------\n"
     ]
    }
   ],
   "source": [
    "!pip install torchsummary\n",
    "\n",
    "from torchsummary import summary\n",
    "summary(wirelessModel, (numberOfAntenna * numberOfAntenna,))"
   ]
  },
  {
   "cell_type": "code",
   "execution_count": 9,
   "metadata": {},
   "outputs": [
    {
     "name": "stdout",
     "output_type": "stream",
     "text": [
      "Train : Test = 1560000 : 40000\n"
     ]
    }
   ],
   "source": [
    "# \n",
    "train_X_all = torch.tensor(inputVal, dtype=torch.float32)\n",
    "train_Y_all = torch.tensor(labelVal, dtype=torch.float32)\n",
    "train_Y_01_all = torch.tensor(labelVal01, dtype=torch.float32)\n",
    "\n",
    "test_X_all = torch.tensor(testInputVal, dtype=torch.float32)\n",
    "test_Y_all = torch.tensor(testLabelVal, dtype=torch.float32)\n",
    "test_Y_01_all = torch.tensor(testLabelVal01, dtype=torch.float32)\n",
    "\n",
    "# for indenendent validation\n",
    "from sklearn.model_selection import train_test_split\n",
    "\n",
    "train_X = train_X_all\n",
    "train_Y = train_Y_01_all\n",
    "\n",
    "test_X = test_X_all\n",
    "test_Y = test_Y_01_all\n",
    "\n",
    "print('Train : Test = ' + str(train_X.shape[0]) + ' : ' + str(test_X.shape[0]))"
   ]
  },
  {
   "cell_type": "markdown",
   "metadata": {},
   "source": [
    "## Learning Fully-Connected"
   ]
  },
  {
   "cell_type": "markdown",
   "metadata": {},
   "source": [
    "### Learning"
   ]
  },
  {
   "cell_type": "code",
   "execution_count": 10,
   "metadata": {},
   "outputs": [
    {
     "name": "stdout",
     "output_type": "stream",
     "text": [
      "Epoch 1/25, Loss: 0.5757917238733707, Accuracy: 0.00655, Precision: 0.7560731045422694\n",
      "Epoch 2/25, Loss: 0.5218047699867151, Accuracy: 0.0094, Precision: 0.7651076631103859\n",
      "Epoch 3/25, Loss: 0.5066308940641391, Accuracy: 0.011275, Precision: 0.7665315729845483\n",
      "Epoch 4/25, Loss: 0.4961457886756995, Accuracy: 0.0124, Precision: 0.7668414885838455\n",
      "Epoch 5/25, Loss: 0.4882283703256876, Accuracy: 0.01285, Precision: 0.7678272098171337\n",
      "Epoch 6/25, Loss: 0.48198734477926525, Accuracy: 0.01355, Precision: 0.7683954669488653\n",
      "Epoch 7/25, Loss: 0.47691609987463707, Accuracy: 0.01405, Precision: 0.7690062741960924\n",
      "Epoch 8/25, Loss: 0.47272780623573524, Accuracy: 0.0143, Precision: 0.7701165544075449\n",
      "Epoch 9/25, Loss: 0.4692247117177034, Accuracy: 0.014675, Precision: 0.7711713803719398\n",
      "Epoch 10/25, Loss: 0.46629770843264384, Accuracy: 0.01545, Precision: 0.7720764820922226\n",
      "Epoch 11/25, Loss: 0.46441333626325315, Accuracy: 0.0154, Precision: 0.7723239611259209\n",
      "Epoch 12/25, Loss: 0.4641208424973182, Accuracy: 0.015475, Precision: 0.7724692409530038\n",
      "Epoch 13/25, Loss: 0.4638624410598706, Accuracy: 0.01535, Precision: 0.7725469323495948\n",
      "Epoch 14/25, Loss: 0.4636175736020773, Accuracy: 0.015325, Precision: 0.7725057260608383\n",
      "Epoch 15/25, Loss: 0.46337254282373647, Accuracy: 0.01535, Precision: 0.7727432914989448\n",
      "Epoch 16/25, Loss: 0.4631849505007267, Accuracy: 0.0156, Precision: 0.7726886087624284\n",
      "Epoch 17/25, Loss: 0.46316602881520225, Accuracy: 0.015625, Precision: 0.7726275723507084\n",
      "Epoch 18/25, Loss: 0.46313312779634425, Accuracy: 0.0154, Precision: 0.7726906623796129\n",
      "Epoch 19/25, Loss: 0.4631174422227419, Accuracy: 0.015625, Precision: 0.7726215508199767\n",
      "Epoch 20/25, Loss: 0.4630846769954914, Accuracy: 0.01545, Precision: 0.7726150138258796\n",
      "Epoch 21/25, Loss: 0.46307307105415907, Accuracy: 0.015525, Precision: 0.772549722666246\n",
      "Epoch 22/25, Loss: 0.46305416482381334, Accuracy: 0.015875, Precision: 0.7726469705017256\n",
      "Epoch 23/25, Loss: 0.4630659048947004, Accuracy: 0.0156, Precision: 0.7726165068692372\n",
      "Epoch 24/25, Loss: 0.4630626951272671, Accuracy: 0.0155, Precision: 0.772690878434878\n",
      "Epoch 25/25, Loss: 0.46306622240405815, Accuracy: 0.01555, Precision: 0.7726606306387355\n",
      "Test Loss: 22.657499313354492, Test Accuracy: 0.01555, Test Precision: 0.7726606306387355\n"
     ]
    }
   ],
   "source": [
    "# after setting train_X_all, train_Y_all, and so on\n",
    "\n",
    "import torch.optim as optim\n",
    "from torch.utils.data import DataLoader, TensorDataset\n",
    "from torch.optim.lr_scheduler import LambdaLR\n",
    "from sklearn.metrics import accuracy_score, precision_score\n",
    "\n",
    "train_dataset = TensorDataset(train_X, train_Y)\n",
    "train_loader = DataLoader(train_dataset, batch_size=1000, shuffle=True)\n",
    "\n",
    "test_dataset = TensorDataset(test_X, test_Y)\n",
    "test_loader = DataLoader(test_dataset, batch_size=1000, shuffle=False)\n",
    "\n",
    "def piecewise_scheduler_fn(epoch):\n",
    "    if epoch < 10:\n",
    "        return 0.005\n",
    "    elif epoch < 15:\n",
    "        return 0.0005\n",
    "    elif epoch < 20:\n",
    "        return 0.00005\n",
    "    else:\n",
    "        return 0.000005\n",
    "\n",
    "criterion = nn.BCELoss()\n",
    "optimizer = optim.Adam(wirelessModel.parameters(), lr=0.01)\n",
    "scheduler = LambdaLR(optimizer, lr_lambda=piecewise_scheduler_fn)\n",
    "\n",
    "# 훈련\n",
    "num_epochs = 25\n",
    "history = {'loss': [], 'accuracy': [], 'precision': []}\n",
    "\n",
    "for epoch in range(num_epochs):\n",
    "    wirelessModel.train()\n",
    "    running_loss = 0.0\n",
    "    for inputs, labels in train_loader:\n",
    "        optimizer.zero_grad()\n",
    "        outputs = wirelessModel(inputs)\n",
    "        loss = criterion(outputs, labels)\n",
    "        loss.backward()\n",
    "        optimizer.step()\n",
    "        running_loss += loss.item()\n",
    "    \n",
    "    scheduler.step()\n",
    "    history['loss'].append(running_loss / len(train_loader))\n",
    "    \n",
    "    # 검증\n",
    "    wirelessModel.eval()\n",
    "    all_preds = []\n",
    "    all_labels = []\n",
    "    with torch.no_grad():\n",
    "        for inputs, labels in test_loader:\n",
    "            outputs = wirelessModel(inputs)\n",
    "            preds = outputs.round()\n",
    "            all_preds.append(preds)\n",
    "            all_labels.append(labels)\n",
    "    \n",
    "    all_preds = torch.cat(all_preds)\n",
    "    all_labels = torch.cat(all_labels)\n",
    "    test_acc = accuracy_score(all_labels, all_preds)\n",
    "    test_precision = precision_score(all_labels, all_preds, average='macro') # 평균 옵션은 필요에 따라 조정\n",
    "    \n",
    "    history['accuracy'].append(test_acc)\n",
    "    history['precision'].append(test_precision)\n",
    "\n",
    "    print(f\"Epoch {epoch+1}/{num_epochs}, Loss: {running_loss/len(train_loader)}, Accuracy: {test_acc}, Precision: {test_precision}\")\n",
    "\n",
    "# 최종 평가\n",
    "wirelessModel.eval()\n",
    "all_preds = []\n",
    "all_labels = []\n",
    "with torch.no_grad():\n",
    "    for inputs, labels in test_loader:\n",
    "        outputs = wirelessModel(inputs)\n",
    "        preds = outputs.round()\n",
    "        all_preds.append(preds)\n",
    "        all_labels.append(labels)\n",
    "\n",
    "all_preds = torch.cat(all_preds)\n",
    "all_labels = torch.cat(all_labels)\n",
    "test_loss = criterion(all_preds, all_labels).item()\n",
    "test_acc = accuracy_score(all_labels, all_preds)\n",
    "test_precision = precision_score(all_labels, all_preds, average='macro')\n",
    "\n",
    "print(f\"Test Loss: {test_loss}, Test Accuracy: {test_acc}, Test Precision: {test_precision}\")\n"
   ]
  },
  {
   "cell_type": "code",
   "execution_count": 11,
   "metadata": {},
   "outputs": [],
   "source": [
    "torch.save(wirelessModel.state_dict(), PYTORCHMODEL_DIR + 'wirelessmodel.pt')"
   ]
  },
  {
   "cell_type": "code",
   "execution_count": 12,
   "metadata": {},
   "outputs": [
    {
     "name": "stdout",
     "output_type": "stream",
     "text": [
      "Processing c:\\users\\khchoi\\auto_lirpa\n",
      "  Preparing metadata (setup.py): started\n",
      "  Preparing metadata (setup.py): finished with status 'done'\n",
      "Requirement already satisfied: torch<2.3.0,>=1.11.0 in d:\\software\\users\\khchoi\\anaconda3\\lib\\site-packages (from auto-LiRPA==0.5.0) (2.2.2)\n",
      "Requirement already satisfied: torchvision<0.18.0,>=0.12.0 in d:\\software\\users\\khchoi\\anaconda3\\lib\\site-packages (from auto-LiRPA==0.5.0) (0.17.2)\n",
      "Requirement already satisfied: numpy>=1.20 in d:\\software\\users\\khchoi\\anaconda3\\lib\\site-packages (from auto-LiRPA==0.5.0) (1.26.4)\n",
      "Requirement already satisfied: packaging>=20.0 in d:\\software\\users\\khchoi\\anaconda3\\lib\\site-packages (from auto-LiRPA==0.5.0) (23.1)\n",
      "Requirement already satisfied: pytest>=5.0 in d:\\software\\users\\khchoi\\anaconda3\\lib\\site-packages (from auto-LiRPA==0.5.0) (7.4.0)\n",
      "Requirement already satisfied: pylint>=2.15 in d:\\software\\users\\khchoi\\anaconda3\\lib\\site-packages (from auto-LiRPA==0.5.0) (2.16.2)\n",
      "Requirement already satisfied: pytest-order>=1.0.0 in d:\\software\\users\\khchoi\\anaconda3\\lib\\site-packages (from auto-LiRPA==0.5.0) (1.2.1)\n",
      "Requirement already satisfied: appdirs>=1.4 in d:\\software\\users\\khchoi\\anaconda3\\lib\\site-packages (from auto-LiRPA==0.5.0) (1.4.4)\n",
      "Requirement already satisfied: pyyaml>=5.0 in d:\\software\\users\\khchoi\\anaconda3\\lib\\site-packages (from auto-LiRPA==0.5.0) (6.0.1)\n",
      "Requirement already satisfied: ninja>=1.10 in d:\\software\\users\\khchoi\\anaconda3\\lib\\site-packages (from auto-LiRPA==0.5.0) (1.11.1.1)\n",
      "Requirement already satisfied: tqdm>=4.64 in d:\\software\\users\\khchoi\\anaconda3\\lib\\site-packages (from auto-LiRPA==0.5.0) (4.65.0)\n",
      "Requirement already satisfied: platformdirs>=2.2.0 in d:\\software\\users\\khchoi\\anaconda3\\lib\\site-packages (from pylint>=2.15->auto-LiRPA==0.5.0) (3.10.0)\n",
      "Requirement already satisfied: astroid<=2.16.0-dev0,>=2.14.2 in d:\\software\\users\\khchoi\\anaconda3\\lib\\site-packages (from pylint>=2.15->auto-LiRPA==0.5.0) (2.14.2)\n",
      "Requirement already satisfied: isort<6,>=4.2.5 in d:\\software\\users\\khchoi\\anaconda3\\lib\\site-packages (from pylint>=2.15->auto-LiRPA==0.5.0) (5.9.3)\n",
      "Requirement already satisfied: mccabe<0.8,>=0.6 in d:\\software\\users\\khchoi\\anaconda3\\lib\\site-packages (from pylint>=2.15->auto-LiRPA==0.5.0) (0.7.0)\n",
      "Requirement already satisfied: tomlkit>=0.10.1 in d:\\software\\users\\khchoi\\anaconda3\\lib\\site-packages (from pylint>=2.15->auto-LiRPA==0.5.0) (0.11.1)\n",
      "Requirement already satisfied: dill>=0.3.6 in d:\\software\\users\\khchoi\\anaconda3\\lib\\site-packages (from pylint>=2.15->auto-LiRPA==0.5.0) (0.3.7)\n",
      "Requirement already satisfied: colorama>=0.4.5 in d:\\software\\users\\khchoi\\anaconda3\\lib\\site-packages (from pylint>=2.15->auto-LiRPA==0.5.0) (0.4.6)\n",
      "Requirement already satisfied: iniconfig in d:\\software\\users\\khchoi\\anaconda3\\lib\\site-packages (from pytest>=5.0->auto-LiRPA==0.5.0) (1.1.1)\n",
      "Requirement already satisfied: pluggy<2.0,>=0.12 in d:\\software\\users\\khchoi\\anaconda3\\lib\\site-packages (from pytest>=5.0->auto-LiRPA==0.5.0) (1.0.0)\n",
      "Requirement already satisfied: filelock in d:\\software\\users\\khchoi\\anaconda3\\lib\\site-packages (from torch<2.3.0,>=1.11.0->auto-LiRPA==0.5.0) (3.13.1)\n",
      "Requirement already satisfied: typing-extensions>=4.8.0 in d:\\software\\users\\khchoi\\anaconda3\\lib\\site-packages (from torch<2.3.0,>=1.11.0->auto-LiRPA==0.5.0) (4.9.0)\n",
      "Requirement already satisfied: sympy in d:\\software\\users\\khchoi\\anaconda3\\lib\\site-packages (from torch<2.3.0,>=1.11.0->auto-LiRPA==0.5.0) (1.12)\n",
      "Requirement already satisfied: networkx in d:\\software\\users\\khchoi\\anaconda3\\lib\\site-packages (from torch<2.3.0,>=1.11.0->auto-LiRPA==0.5.0) (3.1)\n",
      "Requirement already satisfied: jinja2 in d:\\software\\users\\khchoi\\anaconda3\\lib\\site-packages (from torch<2.3.0,>=1.11.0->auto-LiRPA==0.5.0) (3.1.3)\n",
      "Requirement already satisfied: fsspec in d:\\software\\users\\khchoi\\anaconda3\\lib\\site-packages (from torch<2.3.0,>=1.11.0->auto-LiRPA==0.5.0) (2023.10.0)\n",
      "Requirement already satisfied: pillow!=8.3.*,>=5.3.0 in d:\\software\\users\\khchoi\\anaconda3\\lib\\site-packages (from torchvision<0.18.0,>=0.12.0->auto-LiRPA==0.5.0) (10.2.0)\n",
      "Requirement already satisfied: lazy-object-proxy>=1.4.0 in d:\\software\\users\\khchoi\\anaconda3\\lib\\site-packages (from astroid<=2.16.0-dev0,>=2.14.2->pylint>=2.15->auto-LiRPA==0.5.0) (1.6.0)\n",
      "Requirement already satisfied: wrapt<2,>=1.14 in d:\\software\\users\\khchoi\\anaconda3\\lib\\site-packages (from astroid<=2.16.0-dev0,>=2.14.2->pylint>=2.15->auto-LiRPA==0.5.0) (1.14.1)\n",
      "Requirement already satisfied: MarkupSafe>=2.0 in d:\\software\\users\\khchoi\\anaconda3\\lib\\site-packages (from jinja2->torch<2.3.0,>=1.11.0->auto-LiRPA==0.5.0) (2.1.3)\n",
      "Requirement already satisfied: mpmath>=0.19 in d:\\software\\users\\khchoi\\anaconda3\\lib\\site-packages (from sympy->torch<2.3.0,>=1.11.0->auto-LiRPA==0.5.0) (1.3.0)\n",
      "Building wheels for collected packages: auto-LiRPA\n",
      "  Building wheel for auto-LiRPA (setup.py): started\n",
      "  Building wheel for auto-LiRPA (setup.py): finished with status 'done'\n",
      "  Created wheel for auto-LiRPA: filename=auto_LiRPA-0.5.0-py3-none-any.whl size=241438 sha256=040c0415cd527ea85826dd98e82f3e8fbb2af3df5cd5979bd8377cbd2120c973\n",
      "  Stored in directory: C:\\Users\\khchoi\\AppData\\Local\\Temp\\pip-ephem-wheel-cache-qhjxp6tl\\wheels\\a8\\e2\\7d\\8203ffd69358cc1ba99d2ea4d0b4c2a90612274ff12adf3232\n",
      "Successfully built auto-LiRPA\n",
      "Installing collected packages: auto-LiRPA\n",
      "  Attempting uninstall: auto-LiRPA\n",
      "    Found existing installation: auto-LiRPA 0.5.0\n",
      "    Uninstalling auto-LiRPA-0.5.0:\n",
      "      Successfully uninstalled auto-LiRPA-0.5.0\n",
      "Successfully installed auto-LiRPA-0.5.0\n"
     ]
    }
   ],
   "source": [
    "######################################\n",
    "# auto_LiRPA를 git으로 1회 내려받기  #\n",
    "######################################\n",
    "\n",
    "git clone https://github.com/Verified-Intelligence/auto_LiRPA\n",
    "\n",
    "\n",
    "#########################################################\n",
    "# auto_LiRPA/setup.py 인코딩 문제를 해결하기 위해 편집  #\n",
    "#########################################################\n",
    "# EDIT setup.py as explained in https://github.com/kwanghoon/NNV/blob/main/liRPA-Guide.md\n",
    "#\n",
    "#   - with open('auto_LiRPA/__init__.py') as file:\n",
    "#   => with open('auto_LiRPA/__init__.py', encoding=\"utf-8\") as file:\n",
    "#\n",
    "#   - long_description = (this_directory / 'README.md').read_text()\n",
    "#   => long_description = (this_directory / 'README.md').read_text(encoding='utf8')\n",
    "\n",
    "!pip install ./auto_LiRPA"
   ]
  },
  {
   "cell_type": "code",
   "execution_count": 13,
   "metadata": {},
   "outputs": [],
   "source": [
    "from auto_LiRPA import BoundedModule, BoundedTensor\n",
    "from auto_LiRPA.perturbations import PerturbationLpNorm\n",
    "from auto_LiRPA.utils import Flatten\n",
    "from collections import defaultdict"
   ]
  },
  {
   "cell_type": "code",
   "execution_count": 14,
   "metadata": {},
   "outputs": [
    {
     "data": {
      "text/plain": [
       "<All keys matched successfully>"
      ]
     },
     "execution_count": 14,
     "metadata": {},
     "output_type": "execute_result"
    }
   ],
   "source": [
    "model = wirelessModel\n",
    "# Optionally, load the pretrained weights.\n",
    "checkpoint = torch.load(\n",
    "    PYTORCHMODEL_DIR + 'wirelessmodel.pt',\n",
    "    map_location=torch.device('cpu'))\n",
    "model.load_state_dict(checkpoint)"
   ]
  },
  {
   "cell_type": "code",
   "execution_count": 15,
   "metadata": {},
   "outputs": [
    {
     "name": "stdout",
     "output_type": "stream",
     "text": [
      "tensor([[0.3135, 0.0312, 0.1237, 0.0697, 0.0584, 0.0958, 0.1386, 0.1761, 0.0653,\n",
      "         0.0926, 0.1379, 0.1802, 0.2131, 0.1445, 0.1582, 0.1315, 0.0312, 0.4954,\n",
      "         0.1145, 0.2049, 0.0859, 0.0604, 0.2991, 0.1488, 0.0797, 0.1100, 0.2388,\n",
      "         0.0970, 0.2481, 0.3114, 0.1523, 0.1424, 0.1237, 0.1145, 0.5205, 0.2187,\n",
      "         0.1907, 0.2574, 0.2875, 0.1364, 0.1351, 0.3261, 0.1578, 0.1495, 0.1989,\n",
      "         0.2175, 0.1790, 0.1931, 0.0697, 0.2049, 0.2187, 0.7593, 0.1233, 0.0834,\n",
      "         0.1942, 0.1764, 0.1923, 0.2431, 0.2170, 0.0132, 0.4197, 0.3466, 0.2156,\n",
      "         0.0490, 0.0584, 0.0859, 0.1907, 0.1233, 0.2884, 0.1881, 0.1175, 0.0715,\n",
      "         0.1580, 0.1140, 0.0334, 0.1368, 0.0479, 0.0896, 0.1178, 0.1432, 0.0958,\n",
      "         0.0604, 0.2574, 0.0834, 0.1881, 0.4371, 0.0964, 0.1069, 0.2520, 0.2525,\n",
      "         0.0525, 0.0969, 0.1274, 0.2761, 0.1822, 0.1812, 0.1386, 0.2991, 0.2875,\n",
      "         0.1942, 0.1175, 0.0964, 0.7052, 0.1115, 0.0919, 0.3309, 0.2054, 0.3563,\n",
      "         0.1553, 0.2626, 0.2292, 0.2170, 0.1761, 0.1488, 0.1364, 0.1764, 0.0715,\n",
      "         0.1069, 0.1115, 0.4339, 0.2809, 0.0717, 0.0952, 0.0841, 0.0531, 0.2334,\n",
      "         0.1379, 0.2863, 0.0653, 0.0797, 0.1351, 0.1923, 0.1580, 0.2520, 0.0919,\n",
      "         0.2809, 0.5019, 0.0842, 0.1555, 0.1322, 0.0872, 0.2947, 0.1319, 0.3025,\n",
      "         0.0926, 0.1100, 0.3261, 0.2431, 0.1140, 0.2525, 0.3309, 0.0717, 0.0842,\n",
      "         0.3740, 0.1044, 0.1743, 0.1225, 0.3014, 0.2060, 0.0768, 0.1379, 0.2388,\n",
      "         0.1578, 0.2170, 0.0334, 0.0525, 0.2054, 0.0952, 0.1555, 0.1044, 0.5550,\n",
      "         0.1025, 0.2150, 0.3026, 0.1583, 0.1810, 0.1802, 0.0970, 0.1495, 0.0132,\n",
      "         0.1368, 0.0969, 0.3563, 0.0841, 0.1322, 0.1743, 0.1025, 0.5583, 0.2245,\n",
      "         0.2881, 0.0758, 0.1007, 0.2131, 0.2481, 0.1989, 0.4197, 0.0479, 0.1274,\n",
      "         0.1553, 0.0531, 0.0872, 0.1225, 0.2150, 0.2245, 1.0000, 0.2726, 0.2415,\n",
      "         0.1300, 0.1445, 0.3114, 0.2175, 0.3466, 0.0896, 0.2761, 0.2626, 0.2334,\n",
      "         0.2947, 0.3014, 0.3026, 0.2881, 0.2726, 0.8654, 0.1424, 0.1279, 0.1582,\n",
      "         0.1523, 0.1790, 0.2156, 0.1178, 0.1822, 0.2292, 0.1379, 0.1319, 0.2060,\n",
      "         0.1583, 0.0758, 0.2415, 0.1424, 0.3506, 0.0865, 0.1315, 0.1424, 0.1931,\n",
      "         0.0490, 0.1432, 0.1812, 0.2170, 0.2863, 0.3025, 0.0768, 0.1810, 0.1007,\n",
      "         0.1300, 0.1279, 0.0865, 0.5562]])\n",
      "torch.Size([1, 256])\n",
      "tensor([[0.3135, 0.0312, 0.1237, 0.0697, 0.0584, 0.0958, 0.1386, 0.1761, 0.0653,\n",
      "         0.0926, 0.1379, 0.1802, 0.2131, 0.1445, 0.1582, 0.1315, 0.0312, 0.4954,\n",
      "         0.1145, 0.2049, 0.0859, 0.0604, 0.2991, 0.1488, 0.0797, 0.1100, 0.2388,\n",
      "         0.0970, 0.2481, 0.3114, 0.1523, 0.1424, 0.1237, 0.1145, 0.5205, 0.2187,\n",
      "         0.1907, 0.2574, 0.2875, 0.1364, 0.1351, 0.3261, 0.1578, 0.1495, 0.1989,\n",
      "         0.2175, 0.1790, 0.1931, 0.0697, 0.2049, 0.2187, 0.7593, 0.1233, 0.0834,\n",
      "         0.1942, 0.1764, 0.1923, 0.2431, 0.2170, 0.0132, 0.4197, 0.3466, 0.2156,\n",
      "         0.0490, 0.0584, 0.0859, 0.1907, 0.1233, 0.2884, 0.1881, 0.1175, 0.0715,\n",
      "         0.1580, 0.1140, 0.0334, 0.1368, 0.0479, 0.0896, 0.1178, 0.1432, 0.0958,\n",
      "         0.0604, 0.2574, 0.0834, 0.1881, 0.4371, 0.0964, 0.1069, 0.2520, 0.2525,\n",
      "         0.0525, 0.0969, 0.1274, 0.2761, 0.1822, 0.1812, 0.1386, 0.2991, 0.2875,\n",
      "         0.1942, 0.1175, 0.0964, 0.7052, 0.1115, 0.0919, 0.3309, 0.2054, 0.3563,\n",
      "         0.1553, 0.2626, 0.2292, 0.2170, 0.1761, 0.1488, 0.1364, 0.1764, 0.0715,\n",
      "         0.1069, 0.1115, 0.4339, 0.2809, 0.0717, 0.0952, 0.0841, 0.0531, 0.2334,\n",
      "         0.1379, 0.2863, 0.0653, 0.0797, 0.1351, 0.1923, 0.1580, 0.2520, 0.0919,\n",
      "         0.2809, 0.5019, 0.0842, 0.1555, 0.1322, 0.0872, 0.2947, 0.1319, 0.3025,\n",
      "         0.0926, 0.1100, 0.3261, 0.2431, 0.1140, 0.2525, 0.3309, 0.0717, 0.0842,\n",
      "         0.3740, 0.1044, 0.1743, 0.1225, 0.3014, 0.2060, 0.0768, 0.1379, 0.2388,\n",
      "         0.1578, 0.2170, 0.0334, 0.0525, 0.2054, 0.0952, 0.1555, 0.1044, 0.5550,\n",
      "         0.1025, 0.2150, 0.3026, 0.1583, 0.1810, 0.1802, 0.0970, 0.1495, 0.0132,\n",
      "         0.1368, 0.0969, 0.3563, 0.0841, 0.1322, 0.1743, 0.1025, 0.5583, 0.2245,\n",
      "         0.2881, 0.0758, 0.1007, 0.2131, 0.2481, 0.1989, 0.4197, 0.0479, 0.1274,\n",
      "         0.1553, 0.0531, 0.0872, 0.1225, 0.2150, 0.2245, 1.0000, 0.2726, 0.2415,\n",
      "         0.1300, 0.1445, 0.3114, 0.2175, 0.3466, 0.0896, 0.2761, 0.2626, 0.2334,\n",
      "         0.2947, 0.3014, 0.3026, 0.2881, 0.2726, 0.8654, 0.1424, 0.1279, 0.1582,\n",
      "         0.1523, 0.1790, 0.2156, 0.1178, 0.1822, 0.2292, 0.1379, 0.1319, 0.2060,\n",
      "         0.1583, 0.0758, 0.2415, 0.1424, 0.3506, 0.0865, 0.1315, 0.1424, 0.1931,\n",
      "         0.0490, 0.1432, 0.1812, 0.2170, 0.2863, 0.3025, 0.0768, 0.1810, 0.1007,\n",
      "         0.1300, 0.1279, 0.0865, 0.5562]])\n",
      "torch.Size([1, 16])\n",
      "tensor([[1., 0., 1., 1., 0., 0., 0., 0., 0., 0., 1., 1., 1., 1., 0., 1.]])\n"
     ]
    }
   ],
   "source": [
    "test_X_1 = test_X[:1].view(1,256)\n",
    "test_Y_1 = test_Y[:1]\n",
    "\n",
    "\n",
    "print(test_X[:1])\n",
    "print(test_X_1.size())\n",
    "print(test_X_1)\n",
    "print(test_Y_1.size())\n",
    "print(test_Y_1)"
   ]
  },
  {
   "cell_type": "code",
   "execution_count": 16,
   "metadata": {},
   "outputs": [],
   "source": [
    "# model.eval() ??\n",
    "lirpa_model = BoundedModule(model, torch.empty_like(test_X_1), device='cpu')"
   ]
  },
  {
   "cell_type": "code",
   "execution_count": 17,
   "metadata": {},
   "outputs": [
    {
     "name": "stdout",
     "output_type": "stream",
     "text": [
      "Answer:  tensor([[1., 0., 1., 1., 0., 0., 0., 0., 0., 0., 1., 1., 1., 1., 0., 1.]])\n",
      "Prediction:  tensor([[0.1375, 0.4094, 0.2900, 0.8915, 0.1799, 0.3817, 0.7640, 0.3775, 0.3559,\n",
      "         0.0490, 0.7120, 0.8267, 0.9792, 0.6895, 0.0547, 0.8258]],\n",
      "       grad_fn=<SigmoidBackward0>)\n",
      "Bounding method: IBP\n",
      "0:    0.000 <= f_0(x_0+eps) <=    1.000 (*)\n",
      "1:    0.000 <= f_1(x_0+eps) <=    1.000 \n",
      "2:    0.000 <= f_2(x_0+eps) <=    1.000 (*)\n",
      "3:    0.000 <= f_3(x_0+eps) <=    1.000 (*)\n",
      "4:    0.000 <= f_4(x_0+eps) <=    1.000 \n",
      "5:    0.000 <= f_5(x_0+eps) <=    1.000 \n",
      "6:    0.000 <= f_6(x_0+eps) <=    1.000 \n",
      "7:    0.000 <= f_7(x_0+eps) <=    1.000 \n",
      "8:    0.000 <= f_8(x_0+eps) <=    1.000 \n",
      "9:    0.000 <= f_9(x_0+eps) <=    1.000 \n",
      "10:    0.000 <= f_10(x_0+eps) <=    1.000 (*)\n",
      "11:    0.000 <= f_11(x_0+eps) <=    1.000 (*)\n",
      "12:    0.000 <= f_12(x_0+eps) <=    1.000 (*)\n",
      "13:    0.000 <= f_13(x_0+eps) <=    1.000 (*)\n",
      "14:    0.000 <= f_14(x_0+eps) <=    1.000 \n",
      "15:    0.000 <= f_15(x_0+eps) <=    1.000 (*)\n"
     ]
    },
    {
     "data": {
      "image/png": "[encoded data removed]",
      "text/plain": [
       "<Figure size 1000x600 with 1 Axes>"
      ]
     },
     "metadata": {},
     "output_type": "display_data"
    },
    {
     "name": "stdout",
     "output_type": "stream",
     "text": [
      "\n",
      "Bounding method: IBP+backward (CROWN-IBP)\n",
      "0:   -0.114 <= f_0(x_0+eps) <=    0.980 (*)\n",
      "1:   -0.059 <= f_1(x_0+eps) <=    1.042 \n",
      "2:   -0.112 <= f_2(x_0+eps) <=    0.988 (*)\n",
      "3:    0.065 <= f_3(x_0+eps) <=    1.195 (*)\n",
      "4:   -0.110 <= f_4(x_0+eps) <=    0.972 \n",
      "5:   -0.073 <= f_5(x_0+eps) <=    1.022 \n",
      "6:   -0.001 <= f_6(x_0+eps) <=    1.102 \n",
      "7:   -0.068 <= f_7(x_0+eps) <=    1.045 \n",
      "8:   -0.079 <= f_8(x_0+eps) <=    1.020 \n",
      "9:   -0.200 <= f_9(x_0+eps) <=    0.914 \n",
      "10:    0.004 <= f_10(x_0+eps) <=    1.111 (*)\n",
      "11:    0.029 <= f_11(x_0+eps) <=    1.139 (*)\n",
      "12:    0.155 <= f_12(x_0+eps) <=    1.353 (*)\n",
      "13:   -0.004 <= f_13(x_0+eps) <=    1.101 (*)\n",
      "14:   -0.176 <= f_14(x_0+eps) <=    0.921 \n",
      "15:    0.020 <= f_15(x_0+eps) <=    1.126 (*)\n"
     ]
    },
    {
     "data": {
      "image/png": "[encoded data removed]",
      "text/plain": [
       "<Figure size 1000x600 with 1 Axes>"
      ]
     },
     "metadata": {},
     "output_type": "display_data"
    },
    {
     "name": "stdout",
     "output_type": "stream",
     "text": [
      "\n",
      "Bounding method: backward (CROWN)\n",
      "0:    0.102 <= f_0(x_0+eps) <=    0.185 (*)\n",
      "1:    0.342 <= f_1(x_0+eps) <=    0.483 \n",
      "2:    0.232 <= f_2(x_0+eps) <=    0.358 (*)\n",
      "3:    0.865 <= f_3(x_0+eps) <=    0.913 (*)\n",
      "4:    0.137 <= f_4(x_0+eps) <=    0.230 \n",
      "5:    0.306 <= f_5(x_0+eps) <=    0.460 \n",
      "6:    0.708 <= f_6(x_0+eps) <=    0.809 \n",
      "7:    0.293 <= f_7(x_0+eps) <=    0.457 \n",
      "8:    0.288 <= f_8(x_0+eps) <=    0.431 \n",
      "9:    0.035 <= f_9(x_0+eps) <=    0.068 \n",
      "10:    0.645 <= f_10(x_0+eps) <=    0.768 (*)\n",
      "11:    0.789 <= f_11(x_0+eps) <=    0.861 (*)\n",
      "12:    0.975 <= f_12(x_0+eps) <=    0.983 (*)\n",
      "13:    0.643 <= f_13(x_0+eps) <=    0.745 (*)\n",
      "14:    0.038 <= f_14(x_0+eps) <=    0.073 \n",
      "15:    0.786 <= f_15(x_0+eps) <=    0.865 (*)\n"
     ]
    },
    {
     "data": {
      "image/png": "[encoded data removed]",
      "text/plain": [
       "<Figure size 1000x600 with 1 Axes>"
      ]
     },
     "metadata": {},
     "output_type": "display_data"
    },
    {
     "name": "stdout",
     "output_type": "stream",
     "text": [
      "\n",
      "Bounding method: CROWN-Optimized (alpha-CROWN)\n"
     ]
    },
    {
     "ename": "AssertionError",
     "evalue": "",
     "output_type": "error",
     "traceback": [
      "\u001b[1;31m---------------------------------------------------------------------------\u001b[0m",
      "\u001b[1;31mAssertionError\u001b[0m                            Traceback (most recent call last)",
      "Cell \u001b[1;32mIn[17], line 22\u001b[0m\n\u001b[0;32m     20\u001b[0m \u001b[38;5;28;01mif\u001b[39;00m \u001b[38;5;124m'\u001b[39m\u001b[38;5;124mOptimized\u001b[39m\u001b[38;5;124m'\u001b[39m \u001b[38;5;129;01min\u001b[39;00m method:\n\u001b[0;32m     21\u001b[0m     lirpa_model\u001b[38;5;241m.\u001b[39mset_bound_opts({\u001b[38;5;124m'\u001b[39m\u001b[38;5;124moptimize_bound_args\u001b[39m\u001b[38;5;124m'\u001b[39m: {\u001b[38;5;124m'\u001b[39m\u001b[38;5;124miteration\u001b[39m\u001b[38;5;124m'\u001b[39m: \u001b[38;5;241m20\u001b[39m, \u001b[38;5;124m'\u001b[39m\u001b[38;5;124mlr_alpha\u001b[39m\u001b[38;5;124m'\u001b[39m: \u001b[38;5;241m0.1\u001b[39m}})\n\u001b[1;32m---> 22\u001b[0m lb, ub \u001b[38;5;241m=\u001b[39m lirpa_model\u001b[38;5;241m.\u001b[39mcompute_bounds(x\u001b[38;5;241m=\u001b[39m(test_X_1,), method\u001b[38;5;241m=\u001b[39mmethod\u001b[38;5;241m.\u001b[39msplit()[\u001b[38;5;241m0\u001b[39m])\n\u001b[0;32m     24\u001b[0m \u001b[38;5;28;01mfor\u001b[39;00m j \u001b[38;5;129;01min\u001b[39;00m \u001b[38;5;28mrange\u001b[39m(\u001b[38;5;241m16\u001b[39m):\n\u001b[0;32m     25\u001b[0m     indicator \u001b[38;5;241m=\u001b[39m \u001b[38;5;124m'\u001b[39m\u001b[38;5;124m(*)\u001b[39m\u001b[38;5;124m'\u001b[39m \u001b[38;5;28;01mif\u001b[39;00m test_Y_1[\u001b[38;5;241m0\u001b[39m][j] \u001b[38;5;241m>\u001b[39m\u001b[38;5;241m=\u001b[39m \u001b[38;5;241m1.0\u001b[39m \u001b[38;5;28;01melse\u001b[39;00m \u001b[38;5;124m'\u001b[39m\u001b[38;5;124m'\u001b[39m\n",
      "File \u001b[1;32mD:\\Software\\Users\\khchoi\\anaconda3\\Lib\\site-packages\\auto_LiRPA\\bound_general.py:1302\u001b[0m, in \u001b[0;36mBoundedModule.compute_bounds\u001b[1;34m(self, x, aux, C, method, IBP, forward, bound_lower, bound_upper, reuse_ibp, reuse_alpha, return_A, needed_A_dict, final_node_name, average_A, interm_bounds, reference_bounds, intermediate_constr, alpha_idx, aux_reference_bounds, need_A_only, cutter, decision_thresh, update_mask, ibp_nodes, cache_bounds)\u001b[0m\n\u001b[0;32m   1295\u001b[0m kwargs \u001b[38;5;241m=\u001b[39m \u001b[38;5;28mdict\u001b[39m(x\u001b[38;5;241m=\u001b[39mx, C\u001b[38;5;241m=\u001b[39mC, method\u001b[38;5;241m=\u001b[39mmethod, interm_bounds\u001b[38;5;241m=\u001b[39minterm_bounds,\n\u001b[0;32m   1296\u001b[0m     reference_bounds\u001b[38;5;241m=\u001b[39mreference_bounds, return_A\u001b[38;5;241m=\u001b[39mreturn_A,\n\u001b[0;32m   1297\u001b[0m     aux_reference_bounds\u001b[38;5;241m=\u001b[39maux_reference_bounds,\n\u001b[0;32m   1298\u001b[0m     needed_A_dict\u001b[38;5;241m=\u001b[39mneeded_A_dict,\n\u001b[0;32m   1299\u001b[0m     final_node_name\u001b[38;5;241m=\u001b[39mfinal_node_name,\n\u001b[0;32m   1300\u001b[0m     cutter\u001b[38;5;241m=\u001b[39mcutter, decision_thresh\u001b[38;5;241m=\u001b[39mdecision_thresh)\n\u001b[0;32m   1301\u001b[0m \u001b[38;5;28;01mif\u001b[39;00m bound_upper:\n\u001b[1;32m-> 1302\u001b[0m     ret2 \u001b[38;5;241m=\u001b[39m \u001b[38;5;28mself\u001b[39m\u001b[38;5;241m.\u001b[39m_get_optimized_bounds(bound_side\u001b[38;5;241m=\u001b[39m\u001b[38;5;124m'\u001b[39m\u001b[38;5;124mupper\u001b[39m\u001b[38;5;124m'\u001b[39m, \u001b[38;5;241m*\u001b[39m\u001b[38;5;241m*\u001b[39mkwargs)\n\u001b[0;32m   1303\u001b[0m \u001b[38;5;28;01mif\u001b[39;00m bound_lower:\n\u001b[0;32m   1304\u001b[0m     ret1 \u001b[38;5;241m=\u001b[39m \u001b[38;5;28mself\u001b[39m\u001b[38;5;241m.\u001b[39m_get_optimized_bounds(bound_side\u001b[38;5;241m=\u001b[39m\u001b[38;5;124m'\u001b[39m\u001b[38;5;124mlower\u001b[39m\u001b[38;5;124m'\u001b[39m, \u001b[38;5;241m*\u001b[39m\u001b[38;5;241m*\u001b[39mkwargs)\n",
      "File \u001b[1;32mD:\\Software\\Users\\khchoi\\anaconda3\\Lib\\site-packages\\auto_LiRPA\\optimized_bounds.py:347\u001b[0m, in \u001b[0;36m_get_optimized_bounds\u001b[1;34m(self, x, aux, C, IBP, forward, method, bound_side, reuse_ibp, return_A, average_A, final_node_name, interm_bounds, reference_bounds, aux_reference_bounds, needed_A_dict, cutter, decision_thresh, epsilon_over_decision_thresh)\u001b[0m\n\u001b[0;32m    344\u001b[0m     \u001b[38;5;28mself\u001b[39m\u001b[38;5;241m.\u001b[39mbound_opts\u001b[38;5;241m.\u001b[39mupdate({\u001b[38;5;124m'\u001b[39m\u001b[38;5;124mfinal_shape\u001b[39m\u001b[38;5;124m'\u001b[39m: \u001b[38;5;28mself\u001b[39m\u001b[38;5;241m.\u001b[39mfinal_shape})\n\u001b[0;32m    345\u001b[0m \u001b[38;5;28;01mif\u001b[39;00m opts[\u001b[38;5;124m'\u001b[39m\u001b[38;5;124minit_alpha\u001b[39m\u001b[38;5;124m'\u001b[39m]:\n\u001b[0;32m    346\u001b[0m     \u001b[38;5;66;03m# TODO: this should set up aux_reference_bounds.\u001b[39;00m\n\u001b[1;32m--> 347\u001b[0m     \u001b[38;5;28mself\u001b[39m\u001b[38;5;241m.\u001b[39minit_alpha(x, share_alphas\u001b[38;5;241m=\u001b[39mopts[\u001b[38;5;124m'\u001b[39m\u001b[38;5;124muse_shared_alpha\u001b[39m\u001b[38;5;124m'\u001b[39m],\n\u001b[0;32m    348\u001b[0m                     method\u001b[38;5;241m=\u001b[39mmethod, c\u001b[38;5;241m=\u001b[39mC, final_node_name\u001b[38;5;241m=\u001b[39mfinal_node_name)\n\u001b[0;32m    350\u001b[0m optimizable_activations \u001b[38;5;241m=\u001b[39m \u001b[38;5;28mself\u001b[39m\u001b[38;5;241m.\u001b[39mget_enabled_opt_act()\n\u001b[0;32m    352\u001b[0m alphas, parameters \u001b[38;5;241m=\u001b[39m [], []\n",
      "File \u001b[1;32mD:\\Software\\Users\\khchoi\\anaconda3\\Lib\\site-packages\\auto_LiRPA\\optimized_bounds.py:876\u001b[0m, in \u001b[0;36minit_alpha\u001b[1;34m(self, x, share_alphas, method, c, bound_lower, bound_upper, final_node_name, interm_bounds, activation_opt_params, skip_bound_compute)\u001b[0m\n\u001b[0;32m    874\u001b[0m     start_nodes\u001b[38;5;241m.\u001b[39mappend((\u001b[38;5;124m'\u001b[39m\u001b[38;5;124m_forward\u001b[39m\u001b[38;5;124m'\u001b[39m, \u001b[38;5;241m1\u001b[39m, \u001b[38;5;28;01mNone\u001b[39;00m, \u001b[38;5;28;01mFalse\u001b[39;00m))\n\u001b[0;32m    875\u001b[0m \u001b[38;5;28;01mif\u001b[39;00m method \u001b[38;5;129;01min\u001b[39;00m [\u001b[38;5;124m'\u001b[39m\u001b[38;5;124mbackward\u001b[39m\u001b[38;5;124m'\u001b[39m, \u001b[38;5;124m'\u001b[39m\u001b[38;5;124mforward+backward\u001b[39m\u001b[38;5;124m'\u001b[39m]:\n\u001b[1;32m--> 876\u001b[0m     start_nodes \u001b[38;5;241m+\u001b[39m\u001b[38;5;241m=\u001b[39m \u001b[38;5;28mself\u001b[39m\u001b[38;5;241m.\u001b[39mget_alpha_crown_start_nodes(\n\u001b[0;32m    877\u001b[0m         node,\n\u001b[0;32m    878\u001b[0m         c\u001b[38;5;241m=\u001b[39mc,\n\u001b[0;32m    879\u001b[0m         share_alphas\u001b[38;5;241m=\u001b[39mshare_alphas,\n\u001b[0;32m    880\u001b[0m         final_node_name\u001b[38;5;241m=\u001b[39mfinal_node_name,\n\u001b[0;32m    881\u001b[0m     )\n\u001b[0;32m    882\u001b[0m \u001b[38;5;28;01mif\u001b[39;00m skipped:\n\u001b[0;32m    883\u001b[0m     node\u001b[38;5;241m.\u001b[39mrestore_optimized_params(activation_opt_params[node\u001b[38;5;241m.\u001b[39mname])\n",
      "File \u001b[1;32mD:\\Software\\Users\\khchoi\\anaconda3\\Lib\\site-packages\\auto_LiRPA\\backward_bound.py:1029\u001b[0m, in \u001b[0;36mget_alpha_crown_start_nodes\u001b[1;34m(self, node, c, share_alphas, final_node_name)\u001b[0m\n\u001b[0;32m   1026\u001b[0m     \u001b[38;5;28;01massert\u001b[39;00m \u001b[38;5;129;01mnot\u001b[39;00m sparse_intermediate_bounds \u001b[38;5;129;01mor\u001b[39;00m use_sparse_conv \u001b[38;5;129;01mis\u001b[39;00m \u001b[38;5;28;01mFalse\u001b[39;00m  \u001b[38;5;66;03m# Double check our assumption holds. If this fails, then we created wrong shapes for alpha.\u001b[39;00m\n\u001b[0;32m   1027\u001b[0m \u001b[38;5;28;01melse\u001b[39;00m:\n\u001b[0;32m   1028\u001b[0m     \u001b[38;5;66;03m# Output is linear layer (use_sparse_conv = None), or patch converted to matrix (use_sparse_conv = True).\u001b[39;00m\n\u001b[1;32m-> 1029\u001b[0m     \u001b[38;5;28;01massert\u001b[39;00m \u001b[38;5;129;01mnot\u001b[39;00m sparse_intermediate_bounds \u001b[38;5;129;01mor\u001b[39;00m use_sparse_conv \u001b[38;5;129;01mis\u001b[39;00m \u001b[38;5;129;01mnot\u001b[39;00m \u001b[38;5;28;01mFalse\u001b[39;00m  \u001b[38;5;66;03m# Double check our assumption holds. If this fails, then we created wrong shapes for alpha.\u001b[39;00m\n\u001b[0;32m   1030\u001b[0m     output_shape \u001b[38;5;241m=\u001b[39m nj\u001b[38;5;241m.\u001b[39mlower\u001b[38;5;241m.\u001b[39mshape[\u001b[38;5;241m1\u001b[39m:]  \u001b[38;5;66;03m# FIXME: for non-relu activations it's still expecting a prod.\u001b[39;00m\n\u001b[0;32m   1031\u001b[0m start_nodes\u001b[38;5;241m.\u001b[39mappend((nj\u001b[38;5;241m.\u001b[39mname, output_shape, unstable_idx, \u001b[38;5;28;01mFalse\u001b[39;00m))\n",
      "\u001b[1;31mAssertionError\u001b[0m: "
     ]
    }
   ],
   "source": [
    "eps = 0.001\n",
    "norm = float(\"inf\")\n",
    "ptb = PerturbationLpNorm(norm = norm, eps = eps)\n",
    "test_X_1 = BoundedTensor(test_X_1, ptb)\n",
    "\n",
    "pred = lirpa_model(test_X_1)\n",
    "#label = torch.argmax(pred, dim=1).cpu().detach().numpy()\n",
    "\n",
    "# print(test_X_1)\n",
    "# print(test_Y_1)\n",
    "print('Answer: ', test_Y_1)\n",
    "\n",
    "print('Prediction: ', pred)\n",
    "\n",
    "\n",
    "for method in [\n",
    "    'IBP', 'IBP+backward (CROWN-IBP)', 'backward (CROWN)',\n",
    "        'CROWN-Optimized (alpha-CROWN)']:\n",
    "    print('Bounding method:', method)\n",
    "    if 'Optimized' in method:\n",
    "        lirpa_model.set_bound_opts({'optimize_bound_args': {'iteration': 20, 'lr_alpha': 0.1}})\n",
    "    lb, ub = lirpa_model.compute_bounds(x=(test_X_1,), method=method.split()[0])\n",
    "\n",
    "    for j in range(16):\n",
    "        indicator = '(*)' if test_Y_1[0][j] >= 1.0 else ''\n",
    "        print('{j}: {l:8.3f} <= f_{j}(x_0+eps) <= {u:8.3f} {ind}'.format(\n",
    "                j=j, l=lb[0][j].item(), u=ub[0][j].item(), ind=indicator))\n",
    "\n",
    "    xaxis = [0,1,2,3,4,5,6,7,8,9,10,11,12,13,14,15]\n",
    "\n",
    "    plt.figure(figsize=(10,6))\n",
    "\n",
    "    # answer와 prediction값 표시\n",
    "    plt.scatter(xaxis, test_Y_1.tolist(), color='red', marker='*', label='Answer')\n",
    "    plt.scatter(xaxis, pred.tolist(), color='blue', label='Prediction')\n",
    "    \n",
    "    # lb값과 up값 표시\n",
    "    # plt.scatter(xaxis, lb[0].tolist(), color='red', marker='lb', label='Lower Bound')\n",
    "    # plt.scatter(xaxis, ub[0].tolist(), color='green', marker='ub', label='Upper Bound')\n",
    "\n",
    "    lb_list = lb[0].tolist()\n",
    "    ub_list = ub[0].tolist()\n",
    "    \n",
    "    for j in range(16):\n",
    "        plt.vlines(x=j, ymin=lb_list[j], ymax=ub_list[j], color='black', linewidth=1)\n",
    "        plt.hlines(y=lb_list[j], xmin=j-0.05, xmax=j+0.05, color='black', linewidth=1)\n",
    "        plt.hlines(y=ub_list[j], xmin=j-0.05, xmax=j+0.05, color='black', linewidth=1)\n",
    "\n",
    "    # plt.xlabel('X-axis')\n",
    "    # plt.ylabel('Y-axis')\n",
    "    plt.title(method.split()[0] + \"(eps=\" + str(eps) + \")\")\n",
    "    plt.legend()\n",
    "    # plt.grid(True)\n",
    "\n",
    "    plt.show()\n",
    "\n",
    "    print()"
   ]
  },
  {
   "cell_type": "code",
   "execution_count": null,
   "metadata": {},
   "outputs": [],
   "source": [
    "\n"
   ]
  }
 ],
 "metadata": {
  "kernelspec": {
   "display_name": "Python 3 (ipykernel)",
   "language": "python",
   "name": "python3"
  },
  "language_info": {
   "codemirror_mode": {
    "name": "ipython",
    "version": 3
   },
   "file_extension": ".py",
   "mimetype": "text/x-python",
   "name": "python",
   "nbconvert_exporter": "python",
   "pygments_lexer": "ipython3",
   "version": "3.11.7"
  }
 },
 "nbformat": 4,
 "nbformat_minor": 4
}
