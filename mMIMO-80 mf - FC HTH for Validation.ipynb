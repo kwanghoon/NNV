{
 "cells": [
  {
   "cell_type": "markdown",
   "metadata": {},
   "source": [
    "# Global Configurations"
   ]
  },
  {
   "cell_type": "markdown",
   "metadata": {},
   "source": [
    "# Initialization"
   ]
  },
  {
   "cell_type": "code",
   "execution_count": 1,
   "metadata": {},
   "outputs": [
    {
     "name": "stdout",
     "output_type": "stream",
     "text": [
      "short-hard-normal\n",
      "Additional String : | mMIMO FC H hard short|\n",
      "select 8 of 16\n",
      "HTH-1D\n"
     ]
    }
   ],
   "source": [
    "USING_GPU = False\n",
    "\n",
    "CASE_TYPE = 'short'\n",
    "\n",
    "noCases = 16\n",
    "noSelections = 8\n",
    "\n",
    "LABEL_TYPE = 'hard'\n",
    "\n",
    "SOFT_TYPE = 'normal'\n",
    "\n",
    "DATA_USING = 'H'\n",
    "\n",
    "INPUT_SHAPE = 'HTH-1D'\n",
    "\n",
    "INPUT_NORMALIZE = True\n",
    "\n",
    "\n",
    "# HOME_DIR 설정\n",
    "HOME_DIR = 'D:/Work/Research/AI/wireless/' # 'M:/Archive/Google Drive/'   \n",
    "\n",
    "SOURCE_CODE_DIR = HOME_DIR + '' # 'Archive/Source Codes/Jupyter/Antenna Selection Exp02/'\n",
    "\n",
    "DB_DIR = SOURCE_CODE_DIR + 'Pickle/' # 'C:\\Digital Data\\Data/'\n",
    "\n",
    "LOG_DIR = SOURCE_CODE_DIR + 'Logs/'\n",
    "MODEL_DIR = SOURCE_CODE_DIR + 'Models/'\n",
    "WEIGHT_DIR = SOURCE_CODE_DIR + 'Weights/'\n",
    "HISTORY_DIR = SOURCE_CODE_DIR + 'History/'\n",
    "\n",
    "IS_TRAIN_DATA_NORMALIZATION = False       \n",
    "\n",
    "ADDITIONAL_STRING = ' mMIMO FC ' + DATA_USING + ' ' + LABEL_TYPE + ' ' + CASE_TYPE\n",
    "\n",
    "IS_REALTIME_PRECISION = True\n",
    "\n",
    "print(CASE_TYPE + '-' + LABEL_TYPE + '-' + SOFT_TYPE)\n",
    "print('Additional String : |' + ADDITIONAL_STRING + '|') \n",
    "print('select ' + str(noSelections) + ' of ' + str(noCases))\n",
    "print(INPUT_SHAPE)"
   ]
  },
  {
   "cell_type": "markdown",
   "metadata": {},
   "source": [
    "##### Set of Experiments (ONLY for FULLY-CONNECTED NETWORK)"
   ]
  },
  {
   "cell_type": "code",
   "execution_count": 7,
   "metadata": {},
   "outputs": [
    {
     "name": "stdout",
     "output_type": "stream",
     "text": [
      "Requirement already satisfied: tensorflow in d:\\software\\users\\khchoi\\anaconda3\\lib\\site-packages (2.16.1)\n",
      "Requirement already satisfied: tensorflow-intel==2.16.1 in d:\\software\\users\\khchoi\\anaconda3\\lib\\site-packages (from tensorflow) (2.16.1)\n",
      "Requirement already satisfied: absl-py>=1.0.0 in d:\\software\\users\\khchoi\\anaconda3\\lib\\site-packages (from tensorflow-intel==2.16.1->tensorflow) (2.1.0)\n",
      "Requirement already satisfied: astunparse>=1.6.0 in d:\\software\\users\\khchoi\\anaconda3\\lib\\site-packages (from tensorflow-intel==2.16.1->tensorflow) (1.6.3)\n",
      "Requirement already satisfied: flatbuffers>=23.5.26 in d:\\software\\users\\khchoi\\anaconda3\\lib\\site-packages (from tensorflow-intel==2.16.1->tensorflow) (24.3.25)\n",
      "Requirement already satisfied: gast!=0.5.0,!=0.5.1,!=0.5.2,>=0.2.1 in d:\\software\\users\\khchoi\\anaconda3\\lib\\site-packages (from tensorflow-intel==2.16.1->tensorflow) (0.5.4)\n",
      "Requirement already satisfied: google-pasta>=0.1.1 in d:\\software\\users\\khchoi\\anaconda3\\lib\\site-packages (from tensorflow-intel==2.16.1->tensorflow) (0.2.0)\n",
      "Requirement already satisfied: h5py>=3.10.0 in d:\\software\\users\\khchoi\\anaconda3\\lib\\site-packages (from tensorflow-intel==2.16.1->tensorflow) (3.11.0)\n",
      "Requirement already satisfied: libclang>=13.0.0 in d:\\software\\users\\khchoi\\anaconda3\\lib\\site-packages (from tensorflow-intel==2.16.1->tensorflow) (18.1.1)\n",
      "Requirement already satisfied: ml-dtypes~=0.3.1 in d:\\software\\users\\khchoi\\anaconda3\\lib\\site-packages (from tensorflow-intel==2.16.1->tensorflow) (0.3.2)\n",
      "Requirement already satisfied: opt-einsum>=2.3.2 in d:\\software\\users\\khchoi\\anaconda3\\lib\\site-packages (from tensorflow-intel==2.16.1->tensorflow) (3.3.0)\n",
      "Requirement already satisfied: packaging in d:\\software\\users\\khchoi\\anaconda3\\lib\\site-packages (from tensorflow-intel==2.16.1->tensorflow) (23.1)\n",
      "Requirement already satisfied: protobuf!=4.21.0,!=4.21.1,!=4.21.2,!=4.21.3,!=4.21.4,!=4.21.5,<5.0.0dev,>=3.20.3 in d:\\software\\users\\khchoi\\anaconda3\\lib\\site-packages (from tensorflow-intel==2.16.1->tensorflow) (3.20.3)\n",
      "Requirement already satisfied: requests<3,>=2.21.0 in d:\\software\\users\\khchoi\\anaconda3\\lib\\site-packages (from tensorflow-intel==2.16.1->tensorflow) (2.31.0)\n",
      "Requirement already satisfied: setuptools in d:\\software\\users\\khchoi\\anaconda3\\lib\\site-packages (from tensorflow-intel==2.16.1->tensorflow) (68.2.2)\n",
      "Requirement already satisfied: six>=1.12.0 in d:\\software\\users\\khchoi\\anaconda3\\lib\\site-packages (from tensorflow-intel==2.16.1->tensorflow) (1.16.0)\n",
      "Requirement already satisfied: termcolor>=1.1.0 in d:\\software\\users\\khchoi\\anaconda3\\lib\\site-packages (from tensorflow-intel==2.16.1->tensorflow) (2.4.0)\n",
      "Requirement already satisfied: typing-extensions>=3.6.6 in d:\\software\\users\\khchoi\\anaconda3\\lib\\site-packages (from tensorflow-intel==2.16.1->tensorflow) (4.9.0)\n",
      "Requirement already satisfied: wrapt>=1.11.0 in d:\\software\\users\\khchoi\\anaconda3\\lib\\site-packages (from tensorflow-intel==2.16.1->tensorflow) (1.14.1)\n",
      "Requirement already satisfied: grpcio<2.0,>=1.24.3 in d:\\software\\users\\khchoi\\anaconda3\\lib\\site-packages (from tensorflow-intel==2.16.1->tensorflow) (1.63.0)\n",
      "Requirement already satisfied: tensorboard<2.17,>=2.16 in d:\\software\\users\\khchoi\\anaconda3\\lib\\site-packages (from tensorflow-intel==2.16.1->tensorflow) (2.16.2)\n",
      "Requirement already satisfied: keras>=3.0.0 in d:\\software\\users\\khchoi\\anaconda3\\lib\\site-packages (from tensorflow-intel==2.16.1->tensorflow) (3.3.3)\n",
      "Requirement already satisfied: tensorflow-io-gcs-filesystem>=0.23.1 in d:\\software\\users\\khchoi\\anaconda3\\lib\\site-packages (from tensorflow-intel==2.16.1->tensorflow) (0.31.0)\n",
      "Requirement already satisfied: numpy<2.0.0,>=1.23.5 in d:\\software\\users\\khchoi\\anaconda3\\lib\\site-packages (from tensorflow-intel==2.16.1->tensorflow) (1.26.4)\n",
      "Requirement already satisfied: wheel<1.0,>=0.23.0 in d:\\software\\users\\khchoi\\anaconda3\\lib\\site-packages (from astunparse>=1.6.0->tensorflow-intel==2.16.1->tensorflow) (0.41.2)\n",
      "Requirement already satisfied: rich in d:\\software\\users\\khchoi\\anaconda3\\lib\\site-packages (from keras>=3.0.0->tensorflow-intel==2.16.1->tensorflow) (13.3.5)\n",
      "Requirement already satisfied: namex in d:\\software\\users\\khchoi\\anaconda3\\lib\\site-packages (from keras>=3.0.0->tensorflow-intel==2.16.1->tensorflow) (0.0.8)\n",
      "Requirement already satisfied: optree in d:\\software\\users\\khchoi\\anaconda3\\lib\\site-packages (from keras>=3.0.0->tensorflow-intel==2.16.1->tensorflow) (0.11.0)\n",
      "Requirement already satisfied: charset-normalizer<4,>=2 in d:\\software\\users\\khchoi\\anaconda3\\lib\\site-packages (from requests<3,>=2.21.0->tensorflow-intel==2.16.1->tensorflow) (2.0.4)\n",
      "Requirement already satisfied: idna<4,>=2.5 in d:\\software\\users\\khchoi\\anaconda3\\lib\\site-packages (from requests<3,>=2.21.0->tensorflow-intel==2.16.1->tensorflow) (3.4)\n",
      "Requirement already satisfied: urllib3<3,>=1.21.1 in d:\\software\\users\\khchoi\\anaconda3\\lib\\site-packages (from requests<3,>=2.21.0->tensorflow-intel==2.16.1->tensorflow) (2.0.7)\n",
      "Requirement already satisfied: certifi>=2017.4.17 in d:\\software\\users\\khchoi\\anaconda3\\lib\\site-packages (from requests<3,>=2.21.0->tensorflow-intel==2.16.1->tensorflow) (2024.2.2)\n",
      "Requirement already satisfied: markdown>=2.6.8 in d:\\software\\users\\khchoi\\anaconda3\\lib\\site-packages (from tensorboard<2.17,>=2.16->tensorflow-intel==2.16.1->tensorflow) (3.4.1)\n",
      "Requirement already satisfied: tensorboard-data-server<0.8.0,>=0.7.0 in d:\\software\\users\\khchoi\\anaconda3\\lib\\site-packages (from tensorboard<2.17,>=2.16->tensorflow-intel==2.16.1->tensorflow) (0.7.2)\n",
      "Requirement already satisfied: werkzeug>=1.0.1 in d:\\software\\users\\khchoi\\anaconda3\\lib\\site-packages (from tensorboard<2.17,>=2.16->tensorflow-intel==2.16.1->tensorflow) (2.2.3)\n",
      "Requirement already satisfied: MarkupSafe>=2.1.1 in d:\\software\\users\\khchoi\\anaconda3\\lib\\site-packages (from werkzeug>=1.0.1->tensorboard<2.17,>=2.16->tensorflow-intel==2.16.1->tensorflow) (2.1.3)\n",
      "Requirement already satisfied: markdown-it-py<3.0.0,>=2.2.0 in d:\\software\\users\\khchoi\\anaconda3\\lib\\site-packages (from rich->keras>=3.0.0->tensorflow-intel==2.16.1->tensorflow) (2.2.0)\n",
      "Requirement already satisfied: pygments<3.0.0,>=2.13.0 in d:\\software\\users\\khchoi\\anaconda3\\lib\\site-packages (from rich->keras>=3.0.0->tensorflow-intel==2.16.1->tensorflow) (2.15.1)\n",
      "Requirement already satisfied: mdurl~=0.1 in d:\\software\\users\\khchoi\\anaconda3\\lib\\site-packages (from markdown-it-py<3.0.0,>=2.2.0->rich->keras>=3.0.0->tensorflow-intel==2.16.1->tensorflow) (0.1.0)\n"
     ]
    }
   ],
   "source": [
    "!pip install tensorflow"
   ]
  },
  {
   "cell_type": "code",
   "execution_count": 8,
   "metadata": {},
   "outputs": [
    {
     "name": "stdout",
     "output_type": "stream",
     "text": [
      "*** GPU DISABLED\" ***\n",
      "2.16.1\n",
      "[name: \"/device:CPU:0\"\n",
      "device_type: \"CPU\"\n",
      "memory_limit: 268435456\n",
      "locality {\n",
      "}\n",
      "incarnation: 12681280993614524293\n",
      "xla_global_id: -1\n",
      "]\n"
     ]
    }
   ],
   "source": [
    "import numpy as np\n",
    "import scipy.io as sio\n",
    "import tensorflow as tf\n",
    "import matplotlib.pyplot as plt\n",
    "\n",
    "from tensorflow.python.client import device_lib\n",
    "\n",
    "from tensorflow import keras\n",
    "from tensorflow.keras import layers\n",
    "from tensorflow.keras import Sequential, regularizers\n",
    "from tensorflow.keras.layers import Dense, Dropout\n",
    "from tensorflow.keras.layers import BatchNormalization, Activation\n",
    "\n",
    "import pickle\n",
    "\n",
    "import os\n",
    "\n",
    "import datetime\n",
    "\n",
    "import time\n",
    "\n",
    "if USING_GPU == False:\n",
    "    os.environ['CUDA_VISIBLE_DEVICES'] = '-1'\n",
    "    print('*** GPU DISABLED\" ***')\n",
    "\n",
    "print(tf.__version__)\n",
    "print(device_lib.list_local_devices())"
   ]
  },
  {
   "attachments": {
    "image-2.png": {
     "image/png": "[encoded data removed]"
    }
   },
   "cell_type": "markdown",
   "metadata": {},
   "source": [
    "# Data Loading\n",
    "\n",
    "\n",
    "![image-2.png](attachment:image-2.png)"
   ]
  },
  {
   "cell_type": "markdown",
   "metadata": {},
   "source": [
    "## Load Input File from pickle"
   ]
  },
  {
   "cell_type": "code",
   "execution_count": 9,
   "metadata": {},
   "outputs": [
    {
     "name": "stdout",
     "output_type": "stream",
     "text": [
      "sigmoid\n"
     ]
    }
   ],
   "source": [
    "from dataclasses import dataclass, field\n",
    "from typing import List\n",
    "\n",
    "@dataclass\n",
    "class ExperimentSetting:\n",
    "    IS_REGULARIZER: bool\n",
    "    REGULARIZER_TYPE: str\n",
    "    REGULARIZER_RATE: float\n",
    "    KER_REGULARIZER: object\n",
    "    BIAS_REGULARIZER: object\n",
    "    IS_BATCH_NORMALIZATION: bool\n",
    "    \n",
    "    NETWORK_LAYERS: List[int]\n",
    "    NETWORK_NAME: str\n",
    "    \n",
    "    INITIALIZER: str\n",
    "    ACTIVATION: str\n",
    "    FINAL_ACTIVATION: str\n",
    "    \n",
    "    OPTIMIZER_NAME: str\n",
    "    LEARNING_RATE: float\n",
    "    OPTIMIZER: object\n",
    "    \n",
    "    BATCH_SIZE: int\n",
    "    VALIDATION_SPLIT: float\n",
    "    NO_EPOCH: int\n",
    "\n",
    "expSet = []\n",
    "\n",
    "NN_LAY2_491 = [491, 491]\n",
    "\n",
    "\n",
    "regularizer_rate = 1e-5\n",
    "\n",
    "if LABEL_TYPE == 'hard' and CASE_TYPE == 'short':\n",
    "    final_act = 'sigmoid'\n",
    "else:\n",
    "    final_act = 'softmax'\n",
    "\n",
    "    \n",
    "expSet.append(\n",
    "    ExperimentSetting(\n",
    "    IS_REGULARIZER = False,\n",
    "    REGULARIZER_TYPE = 'L1',\n",
    "    REGULARIZER_RATE = regularizer_rate,\n",
    "    KER_REGULARIZER = regularizers.L1(regularizer_rate),\n",
    "    BIAS_REGULARIZER = regularizers.L1(regularizer_rate),        \n",
    "    IS_BATCH_NORMALIZATION = True,\n",
    "    \n",
    "    NETWORK_LAYERS = NN_LAY2_491,\n",
    "    NETWORK_NAME = 'NN_LAY2_491',\n",
    "    \n",
    "    INITIALIZER = 'he_normal',\n",
    "    ACTIVATION = 'relu',\n",
    "    FINAL_ACTIVATION = final_act,\n",
    "    \n",
    "    OPTIMIZER_NAME = 'Adam',\n",
    "    LEARNING_RATE = 0.005,\n",
    "    OPTIMIZER = tf.keras.optimizers.Adam(),\n",
    "        \n",
    "    BATCH_SIZE = 1000,\n",
    "    VALIDATION_SPLIT = 0.2,\n",
    "    NO_EPOCH = 25))\n",
    "\n",
    "\n",
    "def float_to_string(float_number):\n",
    "\n",
    "    if (float_number == 1e-5):\n",
    "        return '1e-5'\n",
    "    elif (float_number == 1e-4):\n",
    "        return '1e-4'\n",
    "    elif (float_number == 1e-6):\n",
    "        return '1e-6'\n",
    "    elif (float_number == 1e-7):\n",
    "        return '1e-7'\n",
    "    elif (float_number == 1e-8):\n",
    "        return '1e-8'\n",
    "    else:\n",
    "        return 'none'\n",
    "    \n",
    "    \n",
    "print(final_act)"
   ]
  },
  {
   "cell_type": "markdown",
   "metadata": {},
   "source": [
    "## Assign Train and Test Data"
   ]
  },
  {
   "cell_type": "code",
   "execution_count": 10,
   "metadata": {},
   "outputs": [
    {
     "name": "stdout",
     "output_type": "stream",
     "text": [
      "D:/Work/Research/AI/wireless/Pickle/mMIMO_AS_training_data_20000_80_H_HTH_ORG_1D.pickle\n",
      "D:/Work/Research/AI/wireless/Pickle/mMIMO_AS_training_data_20000_80_labelVal.pickle\n",
      "D:/Work/Research/AI/wireless/Pickle/mMIMO_AS_training_data_20000_80_labelVal01.pickle\n"
     ]
    }
   ],
   "source": [
    "file_name_head = \"mMIMO_AS_training_data_20000_80_\"\n",
    "file_name_tail = \".pickle\"\n",
    "\n",
    "pickle_H_HTH_ORG_1D = file_name_head + \"H_HTH_ORG_1D\" + file_name_tail\n",
    "pickle_labelVal = file_name_head + \"labelVal\" + file_name_tail\n",
    "pickle_labelVal01 = file_name_head + \"labelVal01\" + file_name_tail\n",
    "\n",
    "pickle_dir_data = DB_DIR + pickle_H_HTH_ORG_1D\n",
    "print(pickle_dir_data)\n",
    "with open(pickle_dir_data, 'rb') as f:\n",
    "    H_inputVal_all = pickle.load(f)\n",
    "\n",
    "pickle_dir_data = DB_DIR + pickle_labelVal\n",
    "print(pickle_dir_data)\n",
    "with open(pickle_dir_data, 'rb') as f:\n",
    "    labelVal_all = pickle.load(f)\n",
    "\n",
    "pickle_dir_data = DB_DIR + pickle_labelVal01\n",
    "print(pickle_dir_data)\n",
    "with open(pickle_dir_data, 'rb') as f:\n",
    "    labelVal01_all = pickle.load(f)"
   ]
  },
  {
   "cell_type": "code",
   "execution_count": 15,
   "metadata": {},
   "outputs": [],
   "source": [
    "no_dataInFile = 20000\n",
    "\n",
    "############# Training DATA\n",
    "\n",
    "no_testDataFiles = 78\n",
    "no_totalData = no_dataInFile * (no_testDataFiles)\n",
    "\n",
    "if DATA_USING == 'R':\n",
    "    inputSize = 192     # 2 * 2 * 2 * 2 * 2 * 2 * 3\n",
    "    inputVal = R_inputVal_all[:no_totalData,:]\n",
    "elif DATA_USING == 'H':\n",
    "    inputSize = 256\n",
    "    inputVal = H_inputVal_all[:no_totalData,:]\n",
    "\n",
    "labelVal = labelVal_all[:no_totalData,:]\n",
    "labelVal01 = labelVal01_all[:no_totalData,:]\n",
    "\n",
    "############# Test DATA\n",
    "\n",
    "no_valDataFiles = 2\n",
    "no_totalValData = no_dataInFile * no_valDataFiles\n",
    "\n",
    "\n",
    "if DATA_USING == 'R':\n",
    "    inputSize = 192     # 2 * 2 * 2 * 2 * 2 * 2 * 3\n",
    "    testInputVal = R_inputVal_all[no_totalData:,:]\n",
    "elif DATA_USING == 'H':\n",
    "    inputSize = 256\n",
    "    testInputVal = H_inputVal_all[no_totalData:,:]\n",
    "\n",
    "if INPUT_SHAPE == 'H-ARI-1D':\n",
    "    inputSize = 384\n",
    "    \n",
    "testLabelVal = labelVal_all[no_totalData:,:]\n",
    "testLabelVal01 = labelVal01_all[no_totalData:,:]"
   ]
  },
  {
   "cell_type": "code",
   "execution_count": 16,
   "metadata": {},
   "outputs": [
    {
     "name": "stdout",
     "output_type": "stream",
     "text": [
      "1560000\n",
      "40000\n",
      "(1600000, 256)\n",
      "(1600000, 16)\n",
      "(1600000, 16)\n",
      "====== INPUT(H) : (1560000, 256) 256\n",
      "[[0.43508627 0.23848953 0.17430991 ... 0.1494573  0.30463561 0.75840547]\n",
      " [0.91201586 0.14239275 0.35888622 ... 0.19680358 0.33829332 0.82588916]\n",
      " [0.38958044 0.19529653 0.12486362 ... 0.25814239 0.1255808  0.33462105]\n",
      " ...\n",
      " [0.2864378  0.2310919  0.14119503 ... 0.06365318 0.0519114  0.33934222]\n",
      " [0.92569351 0.22256976 0.21577545 ... 0.28583585 0.17893457 0.73793588]\n",
      " [0.57095904 0.11634311 0.03737261 ... 0.03271034 0.02874345 0.48409718]]\n",
      "====== LABEL : (1560000, 16)\n",
      "[[0.04384313 0.05183032 0.07402939 ... 0.07402939 0.05051586 0.07402939]\n",
      " [0.04217359 0.02302756 0.0729369  ... 0.07109003 0.0729369  0.0729369 ]\n",
      " [0.06612287 0.07401018 0.05073263 ... 0.07401018 0.07401018 0.02408138]\n",
      " ...\n",
      " [0.0699337  0.04693798 0.06201793 ... 0.0699337  0.0699337  0.04982493]\n",
      " [0.08032117 0.08032117 0.08032117 ... 0.08032117 0.04618059 0.08032117]\n",
      " [0.07990972 0.02283044 0.07990972 ... 0.07990972 0.02191744 0.04169159]]\n",
      "====== LABEL01 : (1560000, 16)\n",
      "[[0 0 1 ... 1 0 1]\n",
      " [0 0 1 ... 0 1 1]\n",
      " [0 1 0 ... 1 1 0]\n",
      " ...\n",
      " [1 0 0 ... 1 1 0]\n",
      " [1 1 1 ... 1 0 1]\n",
      " [1 0 1 ... 1 0 0]]\n",
      "================================================\n",
      "====== TEST INPUT(H) : (40000, 256) 256\n",
      "[[0.43508627 0.23848953 0.17430991 ... 0.1494573  0.30463561 0.75840547]\n",
      " [0.91201586 0.14239275 0.35888622 ... 0.19680358 0.33829332 0.82588916]\n",
      " [0.38958044 0.19529653 0.12486362 ... 0.25814239 0.1255808  0.33462105]\n",
      " ...\n",
      " [0.2864378  0.2310919  0.14119503 ... 0.06365318 0.0519114  0.33934222]\n",
      " [0.92569351 0.22256976 0.21577545 ... 0.28583585 0.17893457 0.73793588]\n",
      " [0.57095904 0.11634311 0.03737261 ... 0.03271034 0.02874345 0.48409718]]\n",
      "====== TEST LABEL : (40000, 16)\n",
      "[[0.07657935 0.04639355 0.07657935 ... 0.07657935 0.0438733  0.07657935]\n",
      " [0.06501209 0.0501676  0.07381366 ... 0.06977023 0.03985275 0.0298839 ]\n",
      " [0.07179931 0.01321105 0.06744875 ... 0.07179931 0.07179931 0.04214995]\n",
      " ...\n",
      " [0.02150067 0.0530908  0.06731576 ... 0.08189336 0.0530908  0.08189336]\n",
      " [0.07077694 0.07077694 0.04042426 ... 0.05194997 0.07077694 0.07077694]\n",
      " [0.04329611 0.0245611  0.08674601 ... 0.03210946 0.02017435 0.08674601]]\n",
      "====== TEST LABEL01 : (40000, 16)\n",
      "[[1 0 1 ... 1 0 1]\n",
      " [0 0 1 ... 0 0 0]\n",
      " [1 0 0 ... 1 1 0]\n",
      " ...\n",
      " [0 0 0 ... 1 0 1]\n",
      " [1 1 0 ... 0 1 1]\n",
      " [0 0 1 ... 0 0 1]]\n"
     ]
    }
   ],
   "source": [
    "print(no_totalData)\n",
    "print(no_totalValData)\n",
    "\n",
    "if DATA_USING == 'R':\n",
    "    print(R_inputVal_all.shape)\n",
    "elif DATA_USING == 'H':\n",
    "    print(H_inputVal_all.shape)\n",
    "print(labelVal_all.shape)\n",
    "print(labelVal01_all.shape)\n",
    "\n",
    "print('====== INPUT(' + DATA_USING + ') : ' + str(inputVal.shape) + ' ' + str(inputSize))\n",
    "print(inputVal)\n",
    "print('====== LABEL : ' + str(labelVal.shape))\n",
    "print(labelVal)\n",
    "print('====== LABEL01 : ' + str(labelVal01.shape))\n",
    "print(labelVal01)\n",
    "\n",
    "print('================================================')\n",
    "\n",
    "print('====== TEST INPUT(' + DATA_USING + ') : ' + str(testInputVal.shape) + ' ' + str(inputSize))\n",
    "print(inputVal)\n",
    "print('====== TEST LABEL : ' + str(testLabelVal.shape))\n",
    "print(testLabelVal)\n",
    "print('====== TEST LABEL01 : ' + str(testLabelVal01.shape))\n",
    "print(testLabelVal01)"
   ]
  },
  {
   "cell_type": "markdown",
   "metadata": {},
   "source": [
    "## Prepare for Data and Metrics "
   ]
  },
  {
   "cell_type": "code",
   "execution_count": 17,
   "metadata": {},
   "outputs": [
    {
     "name": "stdout",
     "output_type": "stream",
     "text": [
      "no scaling\n",
      "no scaling\n"
     ]
    }
   ],
   "source": [
    "from sklearn.preprocessing import StandardScaler\n",
    "\n",
    "if IS_TRAIN_DATA_NORMALIZATION:\n",
    "    scaler = StandardScaler() # 정규화\n",
    "    train_X_all = tf.convert_to_tensor(scaler.fit_transform(inputVal), dtype='float32')\n",
    "else:\n",
    "    train_X_all = tf.convert_to_tensor(inputVal)\n",
    "    print('no scaling')\n",
    "    \n",
    "#train_Y = tf.convert_to_tensor(opt_precoder_idx)\n",
    "\n",
    "train_Y_all = tf.convert_to_tensor(labelVal)\n",
    "train_Y_01_all = tf.convert_to_tensor(labelVal01) \n",
    "\n",
    "########################################\n",
    "\n",
    "\n",
    "if IS_TRAIN_DATA_NORMALIZATION:\n",
    "    scaler = StandardScaler() # 정규화\n",
    "    test_X_all = tf.convert_to_tensor(scaler.fit_transform(testInputVal), dtype='float32')\n",
    "else:\n",
    "    test_X_all = tf.convert_to_tensor(testInputVal)\n",
    "    print('no scaling')\n",
    "    \n",
    "#train_Y = tf.convert_to_tensor(opt_precoder_idx)\n",
    "test_Y_all = tf.convert_to_tensor(testLabelVal)\n",
    "test_Y_01_all = tf.convert_to_tensor(testLabelVal01)"
   ]
  },
  {
   "cell_type": "code",
   "execution_count": 18,
   "metadata": {},
   "outputs": [
    {
     "name": "stdout",
     "output_type": "stream",
     "text": [
      "Train : Test = 1560000 : 40000\n"
     ]
    }
   ],
   "source": [
    "# for indenendent validation\n",
    "from sklearn.model_selection import train_test_split\n",
    "\n",
    "train_X = train_X_all\n",
    "train_Y = train_Y_01_all\n",
    "\n",
    "test_X = test_X_all\n",
    "test_Y = test_Y_01_all\n",
    "\n",
    "print('Train : Test = ' + str(train_X.shape[0]) + ' : ' + str(test_X.shape[0]))"
   ]
  },
  {
   "cell_type": "markdown",
   "metadata": {},
   "source": [
    "## Model Setting"
   ]
  },
  {
   "cell_type": "markdown",
   "metadata": {},
   "source": [
    "## For Fully Connected"
   ]
  },
  {
   "cell_type": "code",
   "execution_count": 19,
   "metadata": {},
   "outputs": [
    {
     "name": "stderr",
     "output_type": "stream",
     "text": [
      "D:\\Software\\Users\\khchoi\\anaconda3\\Lib\\site-packages\\keras\\src\\layers\\core\\dense.py:87: UserWarning: Do not pass an `input_shape`/`input_dim` argument to a layer. When using Sequential models, prefer using an `Input(shape)` object as the first layer in the model instead.\n",
      "  super().__init__(activity_regularizer=activity_regularizer, **kwargs)\n"
     ]
    },
    {
     "data": {
      "text/html": [
       "<pre style=\"white-space:pre;overflow-x:auto;line-height:normal;font-family:Menlo,'DejaVu Sans Mono',consolas,'Courier New',monospace\"><span style=\"font-weight: bold\">Model: \"sequential\"</span>\n",
       "</pre>\n"
      ],
      "text/plain": [
       "\u001b[1mModel: \"sequential\"\u001b[0m\n"
      ]
     },
     "metadata": {},
     "output_type": "display_data"
    },
    {
     "data": {
      "text/html": [
       "<pre style=\"white-space:pre;overflow-x:auto;line-height:normal;font-family:Menlo,'DejaVu Sans Mono',consolas,'Courier New',monospace\">┏━━━━━━━━━━━━━━━━━━━━━━━━━━━━━━━━━━━━━━┳━━━━━━━━━━━━━━━━━━━━━━━━━━━━━┳━━━━━━━━━━━━━━━━━┓\n",
       "┃<span style=\"font-weight: bold\"> Layer (type)                         </span>┃<span style=\"font-weight: bold\"> Output Shape                </span>┃<span style=\"font-weight: bold\">         Param # </span>┃\n",
       "┡━━━━━━━━━━━━━━━━━━━━━━━━━━━━━━━━━━━━━━╇━━━━━━━━━━━━━━━━━━━━━━━━━━━━━╇━━━━━━━━━━━━━━━━━┩\n",
       "│ dense (<span style=\"color: #0087ff; text-decoration-color: #0087ff\">Dense</span>)                        │ (<span style=\"color: #00d7ff; text-decoration-color: #00d7ff\">None</span>, <span style=\"color: #00af00; text-decoration-color: #00af00\">491</span>)                 │         <span style=\"color: #00af00; text-decoration-color: #00af00\">125,696</span> │\n",
       "├──────────────────────────────────────┼─────────────────────────────┼─────────────────┤\n",
       "│ batch_normalization                  │ (<span style=\"color: #00d7ff; text-decoration-color: #00d7ff\">None</span>, <span style=\"color: #00af00; text-decoration-color: #00af00\">491</span>)                 │           <span style=\"color: #00af00; text-decoration-color: #00af00\">1,964</span> │\n",
       "│ (<span style=\"color: #0087ff; text-decoration-color: #0087ff\">BatchNormalization</span>)                 │                             │                 │\n",
       "├──────────────────────────────────────┼─────────────────────────────┼─────────────────┤\n",
       "│ activation (<span style=\"color: #0087ff; text-decoration-color: #0087ff\">Activation</span>)              │ (<span style=\"color: #00d7ff; text-decoration-color: #00d7ff\">None</span>, <span style=\"color: #00af00; text-decoration-color: #00af00\">491</span>)                 │               <span style=\"color: #00af00; text-decoration-color: #00af00\">0</span> │\n",
       "├──────────────────────────────────────┼─────────────────────────────┼─────────────────┤\n",
       "│ dense_1 (<span style=\"color: #0087ff; text-decoration-color: #0087ff\">Dense</span>)                      │ (<span style=\"color: #00d7ff; text-decoration-color: #00d7ff\">None</span>, <span style=\"color: #00af00; text-decoration-color: #00af00\">491</span>)                 │         <span style=\"color: #00af00; text-decoration-color: #00af00\">241,081</span> │\n",
       "├──────────────────────────────────────┼─────────────────────────────┼─────────────────┤\n",
       "│ batch_normalization_1                │ (<span style=\"color: #00d7ff; text-decoration-color: #00d7ff\">None</span>, <span style=\"color: #00af00; text-decoration-color: #00af00\">491</span>)                 │           <span style=\"color: #00af00; text-decoration-color: #00af00\">1,964</span> │\n",
       "│ (<span style=\"color: #0087ff; text-decoration-color: #0087ff\">BatchNormalization</span>)                 │                             │                 │\n",
       "├──────────────────────────────────────┼─────────────────────────────┼─────────────────┤\n",
       "│ activation_1 (<span style=\"color: #0087ff; text-decoration-color: #0087ff\">Activation</span>)            │ (<span style=\"color: #00d7ff; text-decoration-color: #00d7ff\">None</span>, <span style=\"color: #00af00; text-decoration-color: #00af00\">491</span>)                 │               <span style=\"color: #00af00; text-decoration-color: #00af00\">0</span> │\n",
       "├──────────────────────────────────────┼─────────────────────────────┼─────────────────┤\n",
       "│ dense_2 (<span style=\"color: #0087ff; text-decoration-color: #0087ff\">Dense</span>)                      │ (<span style=\"color: #00d7ff; text-decoration-color: #00d7ff\">None</span>, <span style=\"color: #00af00; text-decoration-color: #00af00\">16</span>)                  │           <span style=\"color: #00af00; text-decoration-color: #00af00\">7,856</span> │\n",
       "├──────────────────────────────────────┼─────────────────────────────┼─────────────────┤\n",
       "│ batch_normalization_2                │ (<span style=\"color: #00d7ff; text-decoration-color: #00d7ff\">None</span>, <span style=\"color: #00af00; text-decoration-color: #00af00\">16</span>)                  │              <span style=\"color: #00af00; text-decoration-color: #00af00\">64</span> │\n",
       "│ (<span style=\"color: #0087ff; text-decoration-color: #0087ff\">BatchNormalization</span>)                 │                             │                 │\n",
       "├──────────────────────────────────────┼─────────────────────────────┼─────────────────┤\n",
       "│ activation_2 (<span style=\"color: #0087ff; text-decoration-color: #0087ff\">Activation</span>)            │ (<span style=\"color: #00d7ff; text-decoration-color: #00d7ff\">None</span>, <span style=\"color: #00af00; text-decoration-color: #00af00\">16</span>)                  │               <span style=\"color: #00af00; text-decoration-color: #00af00\">0</span> │\n",
       "└──────────────────────────────────────┴─────────────────────────────┴─────────────────┘\n",
       "</pre>\n"
      ],
      "text/plain": [
       "┏━━━━━━━━━━━━━━━━━━━━━━━━━━━━━━━━━━━━━━┳━━━━━━━━━━━━━━━━━━━━━━━━━━━━━┳━━━━━━━━━━━━━━━━━┓\n",
       "┃\u001b[1m \u001b[0m\u001b[1mLayer (type)                        \u001b[0m\u001b[1m \u001b[0m┃\u001b[1m \u001b[0m\u001b[1mOutput Shape               \u001b[0m\u001b[1m \u001b[0m┃\u001b[1m \u001b[0m\u001b[1m        Param #\u001b[0m\u001b[1m \u001b[0m┃\n",
       "┡━━━━━━━━━━━━━━━━━━━━━━━━━━━━━━━━━━━━━━╇━━━━━━━━━━━━━━━━━━━━━━━━━━━━━╇━━━━━━━━━━━━━━━━━┩\n",
       "│ dense (\u001b[38;5;33mDense\u001b[0m)                        │ (\u001b[38;5;45mNone\u001b[0m, \u001b[38;5;34m491\u001b[0m)                 │         \u001b[38;5;34m125,696\u001b[0m │\n",
       "├──────────────────────────────────────┼─────────────────────────────┼─────────────────┤\n",
       "│ batch_normalization                  │ (\u001b[38;5;45mNone\u001b[0m, \u001b[38;5;34m491\u001b[0m)                 │           \u001b[38;5;34m1,964\u001b[0m │\n",
       "│ (\u001b[38;5;33mBatchNormalization\u001b[0m)                 │                             │                 │\n",
       "├──────────────────────────────────────┼─────────────────────────────┼─────────────────┤\n",
       "│ activation (\u001b[38;5;33mActivation\u001b[0m)              │ (\u001b[38;5;45mNone\u001b[0m, \u001b[38;5;34m491\u001b[0m)                 │               \u001b[38;5;34m0\u001b[0m │\n",
       "├──────────────────────────────────────┼─────────────────────────────┼─────────────────┤\n",
       "│ dense_1 (\u001b[38;5;33mDense\u001b[0m)                      │ (\u001b[38;5;45mNone\u001b[0m, \u001b[38;5;34m491\u001b[0m)                 │         \u001b[38;5;34m241,081\u001b[0m │\n",
       "├──────────────────────────────────────┼─────────────────────────────┼─────────────────┤\n",
       "│ batch_normalization_1                │ (\u001b[38;5;45mNone\u001b[0m, \u001b[38;5;34m491\u001b[0m)                 │           \u001b[38;5;34m1,964\u001b[0m │\n",
       "│ (\u001b[38;5;33mBatchNormalization\u001b[0m)                 │                             │                 │\n",
       "├──────────────────────────────────────┼─────────────────────────────┼─────────────────┤\n",
       "│ activation_1 (\u001b[38;5;33mActivation\u001b[0m)            │ (\u001b[38;5;45mNone\u001b[0m, \u001b[38;5;34m491\u001b[0m)                 │               \u001b[38;5;34m0\u001b[0m │\n",
       "├──────────────────────────────────────┼─────────────────────────────┼─────────────────┤\n",
       "│ dense_2 (\u001b[38;5;33mDense\u001b[0m)                      │ (\u001b[38;5;45mNone\u001b[0m, \u001b[38;5;34m16\u001b[0m)                  │           \u001b[38;5;34m7,856\u001b[0m │\n",
       "├──────────────────────────────────────┼─────────────────────────────┼─────────────────┤\n",
       "│ batch_normalization_2                │ (\u001b[38;5;45mNone\u001b[0m, \u001b[38;5;34m16\u001b[0m)                  │              \u001b[38;5;34m64\u001b[0m │\n",
       "│ (\u001b[38;5;33mBatchNormalization\u001b[0m)                 │                             │                 │\n",
       "├──────────────────────────────────────┼─────────────────────────────┼─────────────────┤\n",
       "│ activation_2 (\u001b[38;5;33mActivation\u001b[0m)            │ (\u001b[38;5;45mNone\u001b[0m, \u001b[38;5;34m16\u001b[0m)                  │               \u001b[38;5;34m0\u001b[0m │\n",
       "└──────────────────────────────────────┴─────────────────────────────┴─────────────────┘\n"
      ]
     },
     "metadata": {},
     "output_type": "display_data"
    },
    {
     "data": {
      "text/html": [
       "<pre style=\"white-space:pre;overflow-x:auto;line-height:normal;font-family:Menlo,'DejaVu Sans Mono',consolas,'Courier New',monospace\"><span style=\"font-weight: bold\"> Total params: </span><span style=\"color: #00af00; text-decoration-color: #00af00\">378,625</span> (1.44 MB)\n",
       "</pre>\n"
      ],
      "text/plain": [
       "\u001b[1m Total params: \u001b[0m\u001b[38;5;34m378,625\u001b[0m (1.44 MB)\n"
      ]
     },
     "metadata": {},
     "output_type": "display_data"
    },
    {
     "data": {
      "text/html": [
       "<pre style=\"white-space:pre;overflow-x:auto;line-height:normal;font-family:Menlo,'DejaVu Sans Mono',consolas,'Courier New',monospace\"><span style=\"font-weight: bold\"> Trainable params: </span><span style=\"color: #00af00; text-decoration-color: #00af00\">376,629</span> (1.44 MB)\n",
       "</pre>\n"
      ],
      "text/plain": [
       "\u001b[1m Trainable params: \u001b[0m\u001b[38;5;34m376,629\u001b[0m (1.44 MB)\n"
      ]
     },
     "metadata": {},
     "output_type": "display_data"
    },
    {
     "data": {
      "text/html": [
       "<pre style=\"white-space:pre;overflow-x:auto;line-height:normal;font-family:Menlo,'DejaVu Sans Mono',consolas,'Courier New',monospace\"><span style=\"font-weight: bold\"> Non-trainable params: </span><span style=\"color: #00af00; text-decoration-color: #00af00\">1,996</span> (7.80 KB)\n",
       "</pre>\n"
      ],
      "text/plain": [
       "\u001b[1m Non-trainable params: \u001b[0m\u001b[38;5;34m1,996\u001b[0m (7.80 KB)\n"
      ]
     },
     "metadata": {},
     "output_type": "display_data"
    }
   ],
   "source": [
    "modelSet = []\n",
    "\n",
    "for idx, expSetting in enumerate(expSet):\n",
    "    \n",
    "    model = Sequential()\n",
    "\n",
    "    no_layers = 0\n",
    "\n",
    "    for no_nodes in expSetting.NETWORK_LAYERS:\n",
    "\n",
    "        if no_layers == 0:\n",
    "            model.add(Dense(no_nodes,  kernel_initializer=expSetting.INITIALIZER,  \n",
    "                            input_shape=(inputSize,), use_bias = False))\n",
    "\n",
    "        else :\n",
    "            model.add(Dense(no_nodes,  kernel_initializer=expSetting.INITIALIZER, \n",
    "                            use_bias = False))\n",
    "\n",
    "        if expSetting.IS_BATCH_NORMALIZATION:\n",
    "            model.add(BatchNormalization())\n",
    "\n",
    "        model.add(Activation(expSetting.ACTIVATION))\n",
    "\n",
    "        no_layers = no_layers + 1\n",
    "\n",
    "    model.add(Dense(noCases, kernel_initializer=expSetting.INITIALIZER, use_bias = False))            \n",
    "\n",
    "    if expSetting.IS_BATCH_NORMALIZATION:\n",
    "        model.add(BatchNormalization())\n",
    "\n",
    "    model.add(Activation(expSetting.FINAL_ACTIVATION))        \n",
    "\n",
    "    model.summary()    \n",
    "    \n",
    "    modelSet.append(model)    \n",
    "\n",
    "'''\n",
    "model = Sequential()\n",
    "\n",
    "# layer 1\n",
    "model.add(Dense(491,  kernel_initializer='he_normal',  \n",
    "                input_shape=(inputSize,), use_bias = False))\n",
    "\n",
    "model.add(BatchNormalization())\n",
    "\n",
    "model.add(Activation('relu'))\n",
    "\n",
    "# layer 2\n",
    "model.add(Dense(491,  kernel_initializer='he_normal', \n",
    "                use_bias = False))\n",
    "\n",
    "model.add(BatchNormalization())\n",
    "\n",
    "model.add(Activation('relu'))\n",
    "\n",
    "# layer 3\n",
    "model.add(Dense(16, kernel_initializer='he_normal', use_bias = False))            \n",
    "\n",
    "model.add(BatchNormalization())\n",
    "\n",
    "model.add(Activation('sigmoid'))        \n",
    "\n",
    "'''"
   ]
  },
  {
   "cell_type": "markdown",
   "metadata": {},
   "source": [
    "## Learning Fully-Connected"
   ]
  },
  {
   "cell_type": "markdown",
   "metadata": {},
   "source": [
    "### Top-100 preparing"
   ]
  },
  {
   "cell_type": "code",
   "execution_count": 20,
   "metadata": {},
   "outputs": [
    {
     "name": "stdout",
     "output_type": "stream",
     "text": [
      "[ 3790 10576  5176 ...  1060 12130 10509]\n",
      "File Loading Done: D:/Work/Research/AI/wireless/Pickle/mMIMO_AS_training_data_20000_seed79_ver2_sorted_ranking.pickle\n",
      "[12572  1362  8248 ...  5341  9761  8740]\n",
      "File Loading Done: D:/Work/Research/AI/wireless/Pickle/mMIMO_AS_training_data_20000_seed80_ver2_sorted_ranking.pickle\n",
      "[[ 3790 10576  5176 ...  8288  7116 10778]\n",
      " [10042 10560  3970 ...  3982  4491  3088]\n",
      " [ 4855  4975  3730 ...  5418 10129 12076]\n",
      " ...\n",
      " [12003 11211  8121 ... 11732  9534  2409]\n",
      " [ 1480  1455  1423 ...  2298  8756  1823]\n",
      " [10389 10426 10423 ... 10993 10833 10042]]\n",
      "(40000, 256)\n",
      "\u001b[1m1250/1250\u001b[0m \u001b[32m━━━━━━━━━━━━━━━━━━━━\u001b[0m\u001b[37m\u001b[0m \u001b[1m2s\u001b[0m 1ms/step\n",
      "(40000, 16)\n",
      "[[0.41837648 0.59118164 0.2755322  ... 0.521912   0.58362854 0.43465197]\n",
      " [0.43816543 0.5926402  0.30917084 ... 0.45950007 0.5659987  0.42440826]\n",
      " [0.40107515 0.5910827  0.27634737 ... 0.49171427 0.6154723  0.3712356 ]\n",
      " ...\n",
      " [0.41056338 0.58497405 0.26328748 ... 0.508118   0.5899704  0.4851111 ]\n",
      " [0.3744868  0.6254351  0.2737834  ... 0.5506384  0.62348205 0.43247607]\n",
      " [0.42329717 0.56598705 0.31695446 ... 0.503336   0.5576439  0.46451086]]\n",
      "10000\n",
      "20000\n",
      "30000\n",
      "40000\n",
      "[ 1  3  4  5  9 10 12 14]\n",
      "[0 1 0 1 1 1 0 0 0 1 1 0 1 0 1 0]\n",
      "308\n",
      "0.77\n",
      "0.777000777000777\n"
     ]
    }
   ],
   "source": [
    "import math\n",
    "\n",
    "targetDataFile = [79, 80]\n",
    "top_interested = 100\n",
    "\n",
    "top100_ranking = np.zeros((len(targetDataFile)*20000, top_interested), np.uint16)\n",
    "\n",
    "totalIdx = 0\n",
    "\n",
    "for fileIdx in targetDataFile:\n",
    "    pickleRanking = \"mMIMO_AS_training_data_20000_seed\" + str(fileIdx) + \"_ver2_sorted_ranking.pickle\"\n",
    "    pickleRanking_path = DB_DIR + pickleRanking\n",
    "    \n",
    "    with open(pickleRanking_path, 'rb') as f:\n",
    "        loadRanking = pickle.load(f)\n",
    "\n",
    "    print(loadRanking[0])        \n",
    "    print('File Loading Done: ' + pickleRanking_path)\n",
    "\n",
    "    for i in range(20000):\n",
    "        for j in range(top_interested):\n",
    "            top100_ranking[totalIdx][j] = loadRanking[i][j]\n",
    "        totalIdx += 1\n",
    "\n",
    "\n",
    "print(top100_ranking)\n",
    "\n",
    "positionAccIdx = np.array([0, 1, 9, 17, 45, 53, 81, 109, 165, 173, 201, 229, 285, 313, 369, 425, 495, 503, 531, 559, 615, 643, 699, 755, 825, 853, 909, 965, 1035, 1091, 1161, 1231, 1287, 1295, 1323, 1351, 1407, 1435, 1491, 1547, 1617, 1645, 1701, 1757, 1827, 1883, 1953, 2023, 2079, 2107, 2163, 2219, 2289, 2345, 2415, 2485, 2541, 2597, 2667, 2737, 2793, 2863, 2919, 2975, 3003, 3011, 3039, 3067, 3123, 3151, 3207, 3263, 3333, 3361, 3417, 3473, 3543, 3599, 3669, 3739, 3795, 3823, 3879, 3935, 4005, 4061, 4131, 4201, 4257, 4313, 4383, 4453, 4509, 4579, 4635, 4691, 4719, 4747, 4803, 4859, 4929, 4985, 5055, 5125, 5181, 5237, 5307, 5377, 5433, 5503, 5559, 5615, 5643, 5699, 5769, 5839, 5895, 5965, 6021, 6077, 6105, 6175, 6231, 6287, 6315, 6371, 6399, 6427, 6435, 6443, 6471, 6499, 6555, 6583, 6639, 6695, 6765, 6793, 6849, 6905, 6975, 7031, 7101, 7171, 7227, 7255, 7311, 7367, 7437, 7493, 7563, 7633, 7689, 7745, 7815, 7885, 7941, 8011, 8067, 8123, 8151, 8179, 8235, 8291, 8361, 8417, 8487, 8557, 8613, 8669, 8739, 8809, 8865, 8935, 8991, 9047, 9075, 9131, 9201, 9271, 9327, 9397, 9453, 9509, 9537, 9607, 9663, 9719, 9747, 9803, 9831, 9859, 9867, 9895, 9951, 10007, 10077, 10133, 10203, 10273, 10329, 10385, 10455, 10525, 10581, 10651, 10707, 10763, 10791, 10847, 10917, 10987, 11043, 11113, 11169, 11225, 11253, 11323, 11379, 11435, 11463, 11519, 11547, 11575, 11583, 11639, 11709, 11779, 11835, 11905, 11961, 12017, 12045, 12115, 12171, 12227, 12255, 12311, 12339, 12367, 12375, 12445, 12501, 12557, 12585, 12641, 12669, 12697, 12705, 12761, 12789, 12817, 12825, 12853, 12861, 12869])\n",
    "\n",
    "def findPosition(in_target):\n",
    "    \n",
    "    idx_middle = 0\n",
    "    no_1s = 0\n",
    "    no_combination = 0\n",
    "\n",
    "    for i in range(8):\n",
    "        if (in_target[i] == 0):\n",
    "            no_1s+=1\n",
    "            idx_middle += (2**(7-i))\n",
    "    \n",
    "    pos_t = positionAccIdx[idx_middle]\n",
    "\n",
    "    for i in range(8, 16):\n",
    "        if(in_target[i] == 1):\n",
    "            no_1s-=1\n",
    "        elif(no_1s != 0):\n",
    "            pos_t+=math.comb(16-i-1, no_1s-1)\n",
    "    \n",
    "    return pos_t\n",
    "\n",
    "\n",
    "print(test_X.shape)\n",
    "result = model.predict(test_X)\n",
    "print(result.shape)\n",
    "print(result)\n",
    "\n",
    "k = noSelections\n",
    "result_classes = np.zeros((len(targetDataFile)*20000, k), int)\n",
    "result_marking = np.zeros((len(targetDataFile)*20000, 16), int)\n",
    "\n",
    "for i, eachResult in enumerate(result):\n",
    "    if (i+1)%10000 ==0:\n",
    "        print(i+1)\n",
    "    result_classes[i] = np.sort(np.argpartition(eachResult,-k)[-k:])\n",
    "    for j in range(k):\n",
    "        result_marking[i][result_classes[i][j]] = 1\n",
    "    \n",
    "print(result_classes[100])\n",
    "print(result_marking[100])\n",
    "\n",
    "no_top100_correct = 0\n",
    "ranking_position = 0\n",
    "\n",
    "for i, eachMarking in enumerate(result_marking):\n",
    "    ranking_position = findPosition(eachMarking)\n",
    "    if(np.any(top100_ranking[i] == ranking_position)):\n",
    "        no_top100_correct += 1\n",
    "\n",
    "print(no_top100_correct)\n",
    "print((no_top100_correct / (len(targetDataFile)*20000))*100)\n",
    "print((100 / 12870)*100)"
   ]
  },
  {
   "cell_type": "markdown",
   "metadata": {},
   "source": [
    "### Learning"
   ]
  },
  {
   "cell_type": "code",
   "execution_count": null,
   "metadata": {},
   "outputs": [
    {
     "name": "stdout",
     "output_type": "stream",
     "text": [
      "Epoch 1/25\n",
      "\u001b[1m1560/1560\u001b[0m \u001b[32m━━━━━━━━━━━━━━━━━━━━\u001b[0m\u001b[37m\u001b[0m \u001b[1m26s\u001b[0m 15ms/step - accuracy: 0.1210 - loss: 0.4907 - precision: 0.7556 - val_accuracy: 0.1506 - val_loss: 0.4764 - val_precision: 0.7650 - learning_rate: 0.0050\n",
      "Epoch 2/25\n",
      "\u001b[1m1560/1560\u001b[0m \u001b[32m━━━━━━━━━━━━━━━━━━━━\u001b[0m\u001b[37m\u001b[0m \u001b[1m24s\u001b[0m 15ms/step - accuracy: 0.1206 - loss: 0.4552 - precision: 0.7764 - val_accuracy: 0.1024 - val_loss: 0.4652 - val_precision: 0.7706 - learning_rate: 0.0050\n",
      "Epoch 3/25\n",
      "\u001b[1m1560/1560\u001b[0m \u001b[32m━━━━━━━━━━━━━━━━━━━━\u001b[0m\u001b[37m\u001b[0m \u001b[1m24s\u001b[0m 15ms/step - accuracy: 0.1194 - loss: 0.4512 - precision: 0.7787 - val_accuracy: 0.0933 - val_loss: 0.4668 - val_precision: 0.7695 - learning_rate: 0.0050\n",
      "Epoch 4/25\n",
      "\u001b[1m1560/1560\u001b[0m \u001b[32m━━━━━━━━━━━━━━━━━━━━\u001b[0m\u001b[37m\u001b[0m \u001b[1m25s\u001b[0m 16ms/step - accuracy: 0.1177 - loss: 0.4491 - precision: 0.7798 - val_accuracy: 0.1292 - val_loss: 0.4603 - val_precision: 0.7737 - learning_rate: 0.0050\n",
      "Epoch 5/25\n",
      "\u001b[1m1560/1560\u001b[0m \u001b[32m━━━━━━━━━━━━━━━━━━━━\u001b[0m\u001b[37m\u001b[0m \u001b[1m24s\u001b[0m 15ms/step - accuracy: 0.1183 - loss: 0.4475 - precision: 0.7805 - val_accuracy: 0.1281 - val_loss: 0.4558 - val_precision: 0.7758 - learning_rate: 0.0050\n",
      "Epoch 6/25\n",
      "\u001b[1m1560/1560\u001b[0m \u001b[32m━━━━━━━━━━━━━━━━━━━━\u001b[0m\u001b[37m\u001b[0m \u001b[1m26s\u001b[0m 17ms/step - accuracy: 0.1209 - loss: 0.4457 - precision: 0.7816 - val_accuracy: 0.1099 - val_loss: 0.4577 - val_precision: 0.7746 - learning_rate: 0.0050\n",
      "Epoch 7/25\n",
      "\u001b[1m   1/1560\u001b[0m \u001b[37m━━━━━━━━━━━━━━━━━━━━\u001b[0m \u001b[1m1:53\u001b[0m 73ms/step - accuracy: 0.1280 - loss: 0.4387 - precision: 0.7841"
     ]
    }
   ],
   "source": [
    "import matplotlib.pyplot as plt\n",
    "\n",
    "def piecewise_scheduler_fn(epoch):\n",
    "    if epoch < 10:\n",
    "        return 0.005\n",
    "    elif epoch < 15:\n",
    "        return 0.0005\n",
    "    elif epoch < 20:\n",
    "        return 0.00005\n",
    "    else:\n",
    "        return 0.000005\n",
    "\n",
    "historySet = []    \n",
    "    \n",
    "for idx, expSetting in enumerate(expSet):\n",
    "    \n",
    "    lr_scheduler = keras.callbacks.LearningRateScheduler(piecewise_scheduler_fn)\n",
    "\n",
    "    modelSet[idx].compile(optimizer='Adam', loss=tf.keras.losses.BinaryCrossentropy(), \n",
    "        metrics=['accuracy', tf.keras.metrics.Precision(top_k = noSelections, name='precision')])\n",
    "\n",
    "    history = modelSet[idx].fit(train_X, train_Y, callbacks=[lr_scheduler], epochs=25, validation_data=(test_X, test_Y), batch_size = 1000)\n",
    "    historySet.append(history)\n",
    "    \n",
    "    test_loss, test_acc, test_precision = modelSet[idx].evaluate(test_X, test_Y)\n",
    "    print('==========================================')\n",
    "    print('Pruned Accuracy: ')\n",
    "    print('- Accuracy : ', test_acc)\n",
    "    print('- Loss     : ', test_loss)\n",
    "    print('- Precision: ', test_precision)\n",
    "    print('==========================================')\n",
    "    \n",
    "  \n",
    "    titleString = 'Baseline Precision: Fully Connected HTH' + expSetting.NETWORK_NAME\n",
    "    titleString += ADDITIONAL_STRING\n",
    "        \n",
    "    fig = plt.figure(figsize=(20, 5))\n",
    "    plt.subplot(1, 2, 1)\n",
    "    plt.plot(history.history['val_precision'])\n",
    "    \n",
    "    plt.title(titleString)    \n",
    "\n",
    "    plt.xlabel('Epoch')\n",
    "    plt.ylabel('Precision')\n",
    "    plt.legend(['Validation'], loc='upper left') \n",
    "    plt.show()\n",
    "    \n",
    "    \n",
    "    titleString = 'Baseline' \n",
    "    titleString += ADDITIONAL_STRING\n",
    "    titleString += ' 80 HTH ' + expSetting.NETWORK_NAME + ' 20240425'\n",
    "\n",
    "    print(titleString)\n",
    "\n",
    "    # modelSet[idx].save(MODEL_DIR + titleString + '.model')\n",
    "    # modelSet[idx].save_weights(WEIGHT_DIR + titleString + '.md')\n",
    "\n",
    "    modelSet[idx].save(MODEL_DIR + titleString + '.keras')\n",
    "    modelSet[idx].save_weights(WEIGHT_DIR + titleString + '.weights.h5')\n",
    "    \n",
    "    with open(HISTORY_DIR + titleString + '.history', 'wb') as file_pi:    \n",
    "        pickle.dump(history.history, file_pi)\n",
    "    \n",
    "    print('Done')\n",
    "\n",
    "\n",
    "    result = modelSet[idx].predict(test_X)\n",
    "\n",
    "    k = noSelections\n",
    "    result_classes = np.zeros((len(targetDataFile)*20000, k), int)\n",
    "    result_marking = np.zeros((len(targetDataFile)*20000, 16), int)\n",
    "\n",
    "    for i, eachResult in enumerate(result):\n",
    "        if (i+1)%10000 ==0:\n",
    "            print(i+1)\n",
    "        result_classes[i] = np.sort(np.argpartition(eachResult,-k)[-k:])\n",
    "        for j in range(k):\n",
    "            result_marking[i][result_classes[i][j]] = 1\n",
    "    \n",
    "    no_top100_correct = 0\n",
    "    ranking_position = 0\n",
    "\n",
    "    for i, eachMarking in enumerate(result_marking):\n",
    "        ranking_position = findPosition(eachMarking)\n",
    "        if(np.any(top100_ranking[i] == ranking_position)):\n",
    "            no_top100_correct += 1\n",
    "\n",
    "    print(no_top100_correct)\n",
    "    print((no_top100_correct / (len(targetDataFile)*20000))*100)\n",
    "    \n",
    "    PREDICT_DIR = SOURCE_CODE_DIR + 'Prediction/'\n",
    "    print(PREDICT_DIR)\n",
    "    print(titleString)\n",
    "\n",
    "    store_data_path = PREDICT_DIR + titleString + '.mat'\n",
    "    dic_result = {'predicted_label' : result_classes.T}\n",
    "    sio.savemat(store_data_path, dic_result)\n",
    "    print(store_data_path)\n"
   ]
  },
  {
   "cell_type": "markdown",
   "metadata": {},
   "source": [
    "## Summary the Models"
   ]
  },
  {
   "cell_type": "code",
   "execution_count": 22,
   "metadata": {},
   "outputs": [
    {
     "name": "stdout",
     "output_type": "stream",
     "text": [
      "378625\n",
      "378625,"
     ]
    }
   ],
   "source": [
    "print(model.count_params())\n",
    "\n",
    "print(model.count_params(), end=',')"
   ]
  },
  {
   "cell_type": "code",
   "execution_count": 23,
   "metadata": {},
   "outputs": [
    {
     "name": "stdout",
     "output_type": "stream",
     "text": [
      "(40000, 256)\n",
      "\u001b[1m1250/1250\u001b[0m \u001b[32m━━━━━━━━━━━━━━━━━━━━\u001b[0m\u001b[37m\u001b[0m \u001b[1m2s\u001b[0m 1ms/step\n",
      "(40000, 16)\n"
     ]
    }
   ],
   "source": [
    "print(test_X.shape)\n",
    "result = model.predict(test_X)\n",
    "print(result.shape)"
   ]
  },
  {
   "cell_type": "markdown",
   "metadata": {},
   "source": [
    "## Writing MAT file"
   ]
  },
  {
   "cell_type": "code",
   "execution_count": 25,
   "metadata": {},
   "outputs": [
    {
     "name": "stdout",
     "output_type": "stream",
     "text": [
      "D:/Work/Research/AI/wireless/./Prediction/\n",
      "Baseline mMIMO FC H hard short 80 HTH NN_LAY2_491 20240425\n",
      "D:/Work/Research/AI/wireless/./Prediction/Baseline mMIMO FC H hard short 80 HTH NN_LAY2_491 20240425.mat\n"
     ]
    }
   ],
   "source": [
    "PREDICT_DIR = SOURCE_CODE_DIR + 'Prediction/'\n",
    "print(PREDICT_DIR)\n",
    "print(titleString)\n",
    "\n",
    "store_data_path = PREDICT_DIR + titleString + '.mat'\n",
    "dic_result = {'predicted_label' : result_classes.T}\n",
    "sio.savemat(store_data_path, dic_result)\n",
    "print(store_data_path)\n",
    "\n",
    "# G:\\내 드라이브\\Archive\\Source Codes\\Jupyter\\Antenna Selection Exp02\\Models"
   ]
  },
  {
   "cell_type": "markdown",
   "metadata": {},
   "source": [
    "# Load Model <<<<<<<<<<<<<<<<<<<<<<<<<<"
   ]
  },
  {
   "cell_type": "code",
   "execution_count": 26,
   "metadata": {},
   "outputs": [
    {
     "name": "stdout",
     "output_type": "stream",
     "text": [
      "Baseline mMIMO FC H hard short 80 HTH NN_LAY2_491 20240425\n"
     ]
    }
   ],
   "source": [
    "titleString = 'Baseline mMIMO FC H hard short 80 HTH NN_LAY2_491 20240425'\n",
    "\n",
    "print(titleString)"
   ]
  },
  {
   "cell_type": "code",
   "execution_count": 27,
   "metadata": {},
   "outputs": [
    {
     "data": {
      "text/html": [
       "<pre style=\"white-space:pre;overflow-x:auto;line-height:normal;font-family:Menlo,'DejaVu Sans Mono',consolas,'Courier New',monospace\"><span style=\"font-weight: bold\">Model: \"sequential\"</span>\n",
       "</pre>\n"
      ],
      "text/plain": [
       "\u001b[1mModel: \"sequential\"\u001b[0m\n"
      ]
     },
     "metadata": {},
     "output_type": "display_data"
    },
    {
     "data": {
      "text/html": [
       "<pre style=\"white-space:pre;overflow-x:auto;line-height:normal;font-family:Menlo,'DejaVu Sans Mono',consolas,'Courier New',monospace\">┏━━━━━━━━━━━━━━━━━━━━━━━━━━━━━━━━━━━━━━┳━━━━━━━━━━━━━━━━━━━━━━━━━━━━━┳━━━━━━━━━━━━━━━━━┓\n",
       "┃<span style=\"font-weight: bold\"> Layer (type)                         </span>┃<span style=\"font-weight: bold\"> Output Shape                </span>┃<span style=\"font-weight: bold\">         Param # </span>┃\n",
       "┡━━━━━━━━━━━━━━━━━━━━━━━━━━━━━━━━━━━━━━╇━━━━━━━━━━━━━━━━━━━━━━━━━━━━━╇━━━━━━━━━━━━━━━━━┩\n",
       "│ dense (<span style=\"color: #0087ff; text-decoration-color: #0087ff\">Dense</span>)                        │ (<span style=\"color: #00d7ff; text-decoration-color: #00d7ff\">None</span>, <span style=\"color: #00af00; text-decoration-color: #00af00\">491</span>)                 │         <span style=\"color: #00af00; text-decoration-color: #00af00\">125,696</span> │\n",
       "├──────────────────────────────────────┼─────────────────────────────┼─────────────────┤\n",
       "│ batch_normalization                  │ (<span style=\"color: #00d7ff; text-decoration-color: #00d7ff\">None</span>, <span style=\"color: #00af00; text-decoration-color: #00af00\">491</span>)                 │           <span style=\"color: #00af00; text-decoration-color: #00af00\">1,964</span> │\n",
       "│ (<span style=\"color: #0087ff; text-decoration-color: #0087ff\">BatchNormalization</span>)                 │                             │                 │\n",
       "├──────────────────────────────────────┼─────────────────────────────┼─────────────────┤\n",
       "│ activation (<span style=\"color: #0087ff; text-decoration-color: #0087ff\">Activation</span>)              │ (<span style=\"color: #00d7ff; text-decoration-color: #00d7ff\">None</span>, <span style=\"color: #00af00; text-decoration-color: #00af00\">491</span>)                 │               <span style=\"color: #00af00; text-decoration-color: #00af00\">0</span> │\n",
       "├──────────────────────────────────────┼─────────────────────────────┼─────────────────┤\n",
       "│ dense_1 (<span style=\"color: #0087ff; text-decoration-color: #0087ff\">Dense</span>)                      │ (<span style=\"color: #00d7ff; text-decoration-color: #00d7ff\">None</span>, <span style=\"color: #00af00; text-decoration-color: #00af00\">491</span>)                 │         <span style=\"color: #00af00; text-decoration-color: #00af00\">241,081</span> │\n",
       "├──────────────────────────────────────┼─────────────────────────────┼─────────────────┤\n",
       "│ batch_normalization_1                │ (<span style=\"color: #00d7ff; text-decoration-color: #00d7ff\">None</span>, <span style=\"color: #00af00; text-decoration-color: #00af00\">491</span>)                 │           <span style=\"color: #00af00; text-decoration-color: #00af00\">1,964</span> │\n",
       "│ (<span style=\"color: #0087ff; text-decoration-color: #0087ff\">BatchNormalization</span>)                 │                             │                 │\n",
       "├──────────────────────────────────────┼─────────────────────────────┼─────────────────┤\n",
       "│ activation_1 (<span style=\"color: #0087ff; text-decoration-color: #0087ff\">Activation</span>)            │ (<span style=\"color: #00d7ff; text-decoration-color: #00d7ff\">None</span>, <span style=\"color: #00af00; text-decoration-color: #00af00\">491</span>)                 │               <span style=\"color: #00af00; text-decoration-color: #00af00\">0</span> │\n",
       "├──────────────────────────────────────┼─────────────────────────────┼─────────────────┤\n",
       "│ dense_2 (<span style=\"color: #0087ff; text-decoration-color: #0087ff\">Dense</span>)                      │ (<span style=\"color: #00d7ff; text-decoration-color: #00d7ff\">None</span>, <span style=\"color: #00af00; text-decoration-color: #00af00\">16</span>)                  │           <span style=\"color: #00af00; text-decoration-color: #00af00\">7,856</span> │\n",
       "├──────────────────────────────────────┼─────────────────────────────┼─────────────────┤\n",
       "│ batch_normalization_2                │ (<span style=\"color: #00d7ff; text-decoration-color: #00d7ff\">None</span>, <span style=\"color: #00af00; text-decoration-color: #00af00\">16</span>)                  │              <span style=\"color: #00af00; text-decoration-color: #00af00\">64</span> │\n",
       "│ (<span style=\"color: #0087ff; text-decoration-color: #0087ff\">BatchNormalization</span>)                 │                             │                 │\n",
       "├──────────────────────────────────────┼─────────────────────────────┼─────────────────┤\n",
       "│ activation_2 (<span style=\"color: #0087ff; text-decoration-color: #0087ff\">Activation</span>)            │ (<span style=\"color: #00d7ff; text-decoration-color: #00d7ff\">None</span>, <span style=\"color: #00af00; text-decoration-color: #00af00\">16</span>)                  │               <span style=\"color: #00af00; text-decoration-color: #00af00\">0</span> │\n",
       "└──────────────────────────────────────┴─────────────────────────────┴─────────────────┘\n",
       "</pre>\n"
      ],
      "text/plain": [
       "┏━━━━━━━━━━━━━━━━━━━━━━━━━━━━━━━━━━━━━━┳━━━━━━━━━━━━━━━━━━━━━━━━━━━━━┳━━━━━━━━━━━━━━━━━┓\n",
       "┃\u001b[1m \u001b[0m\u001b[1mLayer (type)                        \u001b[0m\u001b[1m \u001b[0m┃\u001b[1m \u001b[0m\u001b[1mOutput Shape               \u001b[0m\u001b[1m \u001b[0m┃\u001b[1m \u001b[0m\u001b[1m        Param #\u001b[0m\u001b[1m \u001b[0m┃\n",
       "┡━━━━━━━━━━━━━━━━━━━━━━━━━━━━━━━━━━━━━━╇━━━━━━━━━━━━━━━━━━━━━━━━━━━━━╇━━━━━━━━━━━━━━━━━┩\n",
       "│ dense (\u001b[38;5;33mDense\u001b[0m)                        │ (\u001b[38;5;45mNone\u001b[0m, \u001b[38;5;34m491\u001b[0m)                 │         \u001b[38;5;34m125,696\u001b[0m │\n",
       "├──────────────────────────────────────┼─────────────────────────────┼─────────────────┤\n",
       "│ batch_normalization                  │ (\u001b[38;5;45mNone\u001b[0m, \u001b[38;5;34m491\u001b[0m)                 │           \u001b[38;5;34m1,964\u001b[0m │\n",
       "│ (\u001b[38;5;33mBatchNormalization\u001b[0m)                 │                             │                 │\n",
       "├──────────────────────────────────────┼─────────────────────────────┼─────────────────┤\n",
       "│ activation (\u001b[38;5;33mActivation\u001b[0m)              │ (\u001b[38;5;45mNone\u001b[0m, \u001b[38;5;34m491\u001b[0m)                 │               \u001b[38;5;34m0\u001b[0m │\n",
       "├──────────────────────────────────────┼─────────────────────────────┼─────────────────┤\n",
       "│ dense_1 (\u001b[38;5;33mDense\u001b[0m)                      │ (\u001b[38;5;45mNone\u001b[0m, \u001b[38;5;34m491\u001b[0m)                 │         \u001b[38;5;34m241,081\u001b[0m │\n",
       "├──────────────────────────────────────┼─────────────────────────────┼─────────────────┤\n",
       "│ batch_normalization_1                │ (\u001b[38;5;45mNone\u001b[0m, \u001b[38;5;34m491\u001b[0m)                 │           \u001b[38;5;34m1,964\u001b[0m │\n",
       "│ (\u001b[38;5;33mBatchNormalization\u001b[0m)                 │                             │                 │\n",
       "├──────────────────────────────────────┼─────────────────────────────┼─────────────────┤\n",
       "│ activation_1 (\u001b[38;5;33mActivation\u001b[0m)            │ (\u001b[38;5;45mNone\u001b[0m, \u001b[38;5;34m491\u001b[0m)                 │               \u001b[38;5;34m0\u001b[0m │\n",
       "├──────────────────────────────────────┼─────────────────────────────┼─────────────────┤\n",
       "│ dense_2 (\u001b[38;5;33mDense\u001b[0m)                      │ (\u001b[38;5;45mNone\u001b[0m, \u001b[38;5;34m16\u001b[0m)                  │           \u001b[38;5;34m7,856\u001b[0m │\n",
       "├──────────────────────────────────────┼─────────────────────────────┼─────────────────┤\n",
       "│ batch_normalization_2                │ (\u001b[38;5;45mNone\u001b[0m, \u001b[38;5;34m16\u001b[0m)                  │              \u001b[38;5;34m64\u001b[0m │\n",
       "│ (\u001b[38;5;33mBatchNormalization\u001b[0m)                 │                             │                 │\n",
       "├──────────────────────────────────────┼─────────────────────────────┼─────────────────┤\n",
       "│ activation_2 (\u001b[38;5;33mActivation\u001b[0m)            │ (\u001b[38;5;45mNone\u001b[0m, \u001b[38;5;34m16\u001b[0m)                  │               \u001b[38;5;34m0\u001b[0m │\n",
       "└──────────────────────────────────────┴─────────────────────────────┴─────────────────┘\n"
      ]
     },
     "metadata": {},
     "output_type": "display_data"
    },
    {
     "data": {
      "text/html": [
       "<pre style=\"white-space:pre;overflow-x:auto;line-height:normal;font-family:Menlo,'DejaVu Sans Mono',consolas,'Courier New',monospace\"><span style=\"font-weight: bold\"> Total params: </span><span style=\"color: #00af00; text-decoration-color: #00af00\">378,625</span> (1.44 MB)\n",
       "</pre>\n"
      ],
      "text/plain": [
       "\u001b[1m Total params: \u001b[0m\u001b[38;5;34m378,625\u001b[0m (1.44 MB)\n"
      ]
     },
     "metadata": {},
     "output_type": "display_data"
    },
    {
     "data": {
      "text/html": [
       "<pre style=\"white-space:pre;overflow-x:auto;line-height:normal;font-family:Menlo,'DejaVu Sans Mono',consolas,'Courier New',monospace\"><span style=\"font-weight: bold\"> Trainable params: </span><span style=\"color: #00af00; text-decoration-color: #00af00\">376,629</span> (1.44 MB)\n",
       "</pre>\n"
      ],
      "text/plain": [
       "\u001b[1m Trainable params: \u001b[0m\u001b[38;5;34m376,629\u001b[0m (1.44 MB)\n"
      ]
     },
     "metadata": {},
     "output_type": "display_data"
    },
    {
     "data": {
      "text/html": [
       "<pre style=\"white-space:pre;overflow-x:auto;line-height:normal;font-family:Menlo,'DejaVu Sans Mono',consolas,'Courier New',monospace\"><span style=\"font-weight: bold\"> Non-trainable params: </span><span style=\"color: #00af00; text-decoration-color: #00af00\">1,996</span> (7.80 KB)\n",
       "</pre>\n"
      ],
      "text/plain": [
       "\u001b[1m Non-trainable params: \u001b[0m\u001b[38;5;34m1,996\u001b[0m (7.80 KB)\n"
      ]
     },
     "metadata": {},
     "output_type": "display_data"
    }
   ],
   "source": [
    "# model = tf.keras.models.load_model(MODEL_DIR + titleString + '.model', compile=False)\n",
    "model = tf.keras.models.load_model(MODEL_DIR + titleString + '.keras', compile=False)\n",
    "model.summary()"
   ]
  },
  {
   "cell_type": "code",
   "execution_count": 28,
   "metadata": {},
   "outputs": [
    {
     "name": "stdout",
     "output_type": "stream",
     "text": [
      "\u001b[1m1250/1250\u001b[0m \u001b[32m━━━━━━━━━━━━━━━━━━━━\u001b[0m\u001b[37m\u001b[0m \u001b[1m2s\u001b[0m 1ms/step - accuracy: 0.1178 - loss: 0.4529 - precision: 0.7772\n",
      "==========================================\n",
      "Pruned Accuracy: \n",
      "- Accuracy :  0.11890000104904175\n",
      "- Loss     :  0.4520479142665863\n",
      "- Precision:  0.777778148651123\n",
      "==========================================\n"
     ]
    }
   ],
   "source": [
    "model.compile(optimizer='Adam', loss=tf.keras.losses.BinaryCrossentropy(), \n",
    "    metrics=['accuracy', tf.keras.metrics.Precision(top_k = noSelections, name='precision')])\n",
    "\n",
    "test_loss, test_acc, test_precision = model.evaluate(test_X, test_Y)\n",
    "print('==========================================')\n",
    "print('Pruned Accuracy: ')\n",
    "print('- Accuracy : ', test_acc)\n",
    "print('- Loss     : ', test_loss)\n",
    "print('- Precision: ', test_precision)\n",
    "print('==========================================')"
   ]
  },
  {
   "cell_type": "code",
   "execution_count": null,
   "metadata": {},
   "outputs": [],
   "source": []
  }
 ],
 "metadata": {
  "kernelspec": {
   "display_name": "Python 3 (ipykernel)",
   "language": "python",
   "name": "python3"
  },
  "language_info": {
   "codemirror_mode": {
    "name": "ipython",
    "version": 3
   },
   "file_extension": ".py",
   "mimetype": "text/x-python",
   "name": "python",
   "nbconvert_exporter": "python",
   "pygments_lexer": "ipython3",
   "version": "3.11.7"
  }
 },
 "nbformat": 4,
 "nbformat_minor": 4
}
