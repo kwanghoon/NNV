{
 "cells": [
  {
   "cell_type": "markdown",
   "metadata": {},
   "source": [
    "# Global Configurations"
   ]
  },
  {
   "cell_type": "markdown",
   "metadata": {},
   "source": [
    "# Initialization"
   ]
  },
  {
   "cell_type": "code",
   "execution_count": 39,
   "metadata": {},
   "outputs": [],
   "source": [
    "# HOME_DIR 설정\n",
    "HOME_DIR = 'D:/Work/Research/AI/wireless/' # 'M:/Archive/Google Drive/'   \n",
    "\n",
    "SOURCE_CODE_DIR = HOME_DIR + '' # 'Archive/Source Codes/Jupyter/Antenna Selection Exp02/'\n",
    "\n",
    "DB_DIR = SOURCE_CODE_DIR + 'Pickle/' # 'C:\\Digital Data\\Data/'\n",
    "\n",
    "LOG_DIR = SOURCE_CODE_DIR + 'Logs/'\n",
    "MODEL_DIR = SOURCE_CODE_DIR + 'Models/'\n",
    "WEIGHT_DIR = SOURCE_CODE_DIR + 'Weights/'\n",
    "HISTORY_DIR = SOURCE_CODE_DIR + 'History/'\n",
    "\n",
    "PYTORCHMODEL_DIR = SOURCE_CODE_DIR + 'PytorchModels/'\n",
    "\n",
    "ADDITIONAL_STRING = ' mMIMO FC ' + DATA_USING + ' ' + LABEL_TYPE + ' ' + CASE_TYPE"
   ]
  },
  {
   "cell_type": "markdown",
   "metadata": {},
   "source": [
    "##### Set of Experiments (ONLY for FULLY-CONNECTED NETWORK)"
   ]
  },
  {
   "cell_type": "code",
   "execution_count": 40,
   "metadata": {},
   "outputs": [],
   "source": [
    "import numpy as np\n",
    "# import scipy.io as sio\n",
    "# import tensorflow as tf\n",
    "import matplotlib.pyplot as plt\n",
    "\n",
    "# from tensorflow.python.client import device_lib\n",
    "\n",
    "# from tensorflow import keras\n",
    "# from tensorflow.keras import layers\n",
    "# from tensorflow.keras import Sequential, regularizers\n",
    "# from tensorflow.keras.layers import Dense, Dropout\n",
    "# from tensorflow.keras.layers import BatchNormalization, Activation\n",
    "\n",
    "import pickle\n",
    "\n",
    "import os\n",
    "\n",
    "import datetime\n",
    "\n",
    "import time\n",
    "\n",
    "# if USING_GPU == False:\n",
    "#   os.environ['CUDA_VISIBLE_DEVICES'] = '-1'\n",
    "#     print('*** GPU DISABLED\" ***')\n",
    "\n",
    "# print(tf.__version__)\n",
    "# print(device_lib.list_local_devices())"
   ]
  },
  {
   "attachments": {
    "image-2.png": {
     "image/png": "[encoded data removed]"
    }
   },
   "cell_type": "markdown",
   "metadata": {},
   "source": [
    "# Data Loading\n",
    "\n",
    "\n",
    "![image-2.png](attachment:image-2.png)"
   ]
  },
  {
   "cell_type": "markdown",
   "metadata": {},
   "source": [
    "## Load Input File from pickle"
   ]
  },
  {
   "cell_type": "markdown",
   "metadata": {},
   "source": [
    "## Assign Train and Test Data"
   ]
  },
  {
   "cell_type": "code",
   "execution_count": 41,
   "metadata": {},
   "outputs": [
    {
     "name": "stdout",
     "output_type": "stream",
     "text": [
      "D:/Work/Research/AI/wireless/Pickle/mMIMO_AS_training_data_20000_80_H_HTH_ORG_1D.pickle\n",
      "D:/Work/Research/AI/wireless/Pickle/mMIMO_AS_training_data_20000_80_labelVal.pickle\n",
      "D:/Work/Research/AI/wireless/Pickle/mMIMO_AS_training_data_20000_80_labelVal01.pickle\n"
     ]
    }
   ],
   "source": [
    "file_name_head = \"mMIMO_AS_training_data_20000_80_\"\n",
    "file_name_tail = \".pickle\"\n",
    "\n",
    "pickle_H_HTH_ORG_1D = file_name_head + \"H_HTH_ORG_1D\" + file_name_tail\n",
    "pickle_labelVal = file_name_head + \"labelVal\" + file_name_tail\n",
    "pickle_labelVal01 = file_name_head + \"labelVal01\" + file_name_tail\n",
    "\n",
    "pickle_dir_data = DB_DIR + pickle_H_HTH_ORG_1D\n",
    "print(pickle_dir_data)\n",
    "with open(pickle_dir_data, 'rb') as f:\n",
    "    H_inputVal_all = pickle.load(f)\n",
    "\n",
    "pickle_dir_data = DB_DIR + pickle_labelVal\n",
    "print(pickle_dir_data)\n",
    "with open(pickle_dir_data, 'rb') as f:\n",
    "    labelVal_all = pickle.load(f)\n",
    "\n",
    "pickle_dir_data = DB_DIR + pickle_labelVal01\n",
    "print(pickle_dir_data)\n",
    "with open(pickle_dir_data, 'rb') as f:\n",
    "    labelVal01_all = pickle.load(f)"
   ]
  },
  {
   "cell_type": "code",
   "execution_count": 42,
   "metadata": {},
   "outputs": [],
   "source": [
    "numberOfAntenna = 16\n",
    "\n",
    "no_dataInFile = 20000\n",
    "\n",
    "############# Training DATA\n",
    "\n",
    "no_testDataFiles = 78\n",
    "no_totalData = no_dataInFile * (no_testDataFiles)\n",
    "\n",
    "if DATA_USING == 'R':\n",
    "    inputSize = 192     # 2 * 2 * 2 * 2 * 2 * 2 * 3\n",
    "    inputVal = R_inputVal_all[:no_totalData,:]\n",
    "elif DATA_USING == 'H':\n",
    "    inputSize = numberOfAntenna * numberOfAntenna\n",
    "    inputVal = H_inputVal_all[:no_totalData,:]\n",
    "\n",
    "labelVal = labelVal_all[:no_totalData,:]\n",
    "labelVal01 = labelVal01_all[:no_totalData,:]\n",
    "\n",
    "############# Test DATA\n",
    "\n",
    "no_valDataFiles = 2\n",
    "no_totalValData = no_dataInFile * no_valDataFiles\n",
    "\n",
    "\n",
    "if DATA_USING == 'R':\n",
    "    inputSize = 192     # 2 * 2 * 2 * 2 * 2 * 2 * 3\n",
    "    testInputVal = R_inputVal_all[no_totalData:,:]\n",
    "elif DATA_USING == 'H':\n",
    "    inputSize = numberOfAntenna * numberOfAntenna\n",
    "    testInputVal = H_inputVal_all[no_totalData:,:]\n",
    "\n",
    "if INPUT_SHAPE == 'H-ARI-1D':\n",
    "    inputSize = 384\n",
    "    \n",
    "testLabelVal = labelVal_all[no_totalData:,:]\n",
    "testLabelVal01 = labelVal01_all[no_totalData:,:]"
   ]
  },
  {
   "cell_type": "code",
   "execution_count": 43,
   "metadata": {},
   "outputs": [
    {
     "name": "stdout",
     "output_type": "stream",
     "text": [
      "1560000\n",
      "40000\n",
      "(1600000, 256)\n",
      "(1600000, 16)\n",
      "(1600000, 16)\n",
      "====== INPUT(H) : (1560000, 256) 256\n",
      "[[0.43508627 0.23848953 0.17430991 ... 0.1494573  0.30463561 0.75840547]\n",
      " [0.91201586 0.14239275 0.35888622 ... 0.19680358 0.33829332 0.82588916]\n",
      " [0.38958044 0.19529653 0.12486362 ... 0.25814239 0.1255808  0.33462105]\n",
      " ...\n",
      " [0.2864378  0.2310919  0.14119503 ... 0.06365318 0.0519114  0.33934222]\n",
      " [0.92569351 0.22256976 0.21577545 ... 0.28583585 0.17893457 0.73793588]\n",
      " [0.57095904 0.11634311 0.03737261 ... 0.03271034 0.02874345 0.48409718]]\n",
      "====== LABEL : (1560000, 16)\n",
      "[[0.04384313 0.05183032 0.07402939 ... 0.07402939 0.05051586 0.07402939]\n",
      " [0.04217359 0.02302756 0.0729369  ... 0.07109003 0.0729369  0.0729369 ]\n",
      " [0.06612287 0.07401018 0.05073263 ... 0.07401018 0.07401018 0.02408138]\n",
      " ...\n",
      " [0.0699337  0.04693798 0.06201793 ... 0.0699337  0.0699337  0.04982493]\n",
      " [0.08032117 0.08032117 0.08032117 ... 0.08032117 0.04618059 0.08032117]\n",
      " [0.07990972 0.02283044 0.07990972 ... 0.07990972 0.02191744 0.04169159]]\n",
      "====== LABEL01 : (1560000, 16)\n",
      "[[0 0 1 ... 1 0 1]\n",
      " [0 0 1 ... 0 1 1]\n",
      " [0 1 0 ... 1 1 0]\n",
      " ...\n",
      " [1 0 0 ... 1 1 0]\n",
      " [1 1 1 ... 1 0 1]\n",
      " [1 0 1 ... 1 0 0]]\n",
      "================================================\n",
      "====== TEST INPUT(H) : (40000, 256) 256\n",
      "[[0.43508627 0.23848953 0.17430991 ... 0.1494573  0.30463561 0.75840547]\n",
      " [0.91201586 0.14239275 0.35888622 ... 0.19680358 0.33829332 0.82588916]\n",
      " [0.38958044 0.19529653 0.12486362 ... 0.25814239 0.1255808  0.33462105]\n",
      " ...\n",
      " [0.2864378  0.2310919  0.14119503 ... 0.06365318 0.0519114  0.33934222]\n",
      " [0.92569351 0.22256976 0.21577545 ... 0.28583585 0.17893457 0.73793588]\n",
      " [0.57095904 0.11634311 0.03737261 ... 0.03271034 0.02874345 0.48409718]]\n",
      "====== TEST LABEL : (40000, 16)\n",
      "[[0.07657935 0.04639355 0.07657935 ... 0.07657935 0.0438733  0.07657935]\n",
      " [0.06501209 0.0501676  0.07381366 ... 0.06977023 0.03985275 0.0298839 ]\n",
      " [0.07179931 0.01321105 0.06744875 ... 0.07179931 0.07179931 0.04214995]\n",
      " ...\n",
      " [0.02150067 0.0530908  0.06731576 ... 0.08189336 0.0530908  0.08189336]\n",
      " [0.07077694 0.07077694 0.04042426 ... 0.05194997 0.07077694 0.07077694]\n",
      " [0.04329611 0.0245611  0.08674601 ... 0.03210946 0.02017435 0.08674601]]\n",
      "====== TEST LABEL01 : (40000, 16)\n",
      "[[1 0 1 ... 1 0 1]\n",
      " [0 0 1 ... 0 0 0]\n",
      " [1 0 0 ... 1 1 0]\n",
      " ...\n",
      " [0 0 0 ... 1 0 1]\n",
      " [1 1 0 ... 0 1 1]\n",
      " [0 0 1 ... 0 0 1]]\n"
     ]
    }
   ],
   "source": [
    "print(no_totalData)\n",
    "print(no_totalValData)\n",
    "\n",
    "if DATA_USING == 'R':\n",
    "    print(R_inputVal_all.shape)\n",
    "elif DATA_USING == 'H':\n",
    "    print(H_inputVal_all.shape)\n",
    "print(labelVal_all.shape)\n",
    "print(labelVal01_all.shape)\n",
    "\n",
    "print('====== INPUT(' + DATA_USING + ') : ' + str(inputVal.shape) + ' ' + str(inputSize))\n",
    "print(inputVal)\n",
    "print('====== LABEL : ' + str(labelVal.shape))\n",
    "print(labelVal)\n",
    "print('====== LABEL01 : ' + str(labelVal01.shape))\n",
    "print(labelVal01)\n",
    "\n",
    "print('================================================')\n",
    "\n",
    "print('====== TEST INPUT(' + DATA_USING + ') : ' + str(testInputVal.shape) + ' ' + str(inputSize))\n",
    "print(inputVal)\n",
    "print('====== TEST LABEL : ' + str(testLabelVal.shape))\n",
    "print(testLabelVal)\n",
    "print('====== TEST LABEL01 : ' + str(testLabelVal01.shape))\n",
    "print(testLabelVal01)"
   ]
  },
  {
   "cell_type": "markdown",
   "metadata": {},
   "source": [
    "## Prepare for Data and Metrics "
   ]
  },
  {
   "cell_type": "code",
   "execution_count": 44,
   "metadata": {},
   "outputs": [
    {
     "name": "stdout",
     "output_type": "stream",
     "text": [
      "Train : Test = 1560000 : 40000\n"
     ]
    }
   ],
   "source": [
    "# \n",
    "train_X_all = torch.tensor(inputVal, dtype=torch.float32)\n",
    "train_Y_all = torch.tensor(labelVal, dtype=torch.float32)\n",
    "train_Y_01_all = torch.tensor(labelVal01, dtype=torch.float32)\n",
    "\n",
    "test_X_all = torch.tensor(testInputVal, dtype=torch.float32)\n",
    "test_Y_all = torch.tensor(testLabelVal, dtype=torch.float32)\n",
    "test_Y_01_all = torch.tensor(testLabelVal01, dtype=torch.float32)\n",
    "\n",
    "# for indenendent validation\n",
    "from sklearn.model_selection import train_test_split\n",
    "\n",
    "train_X = train_X_all\n",
    "train_Y = train_Y_01_all\n",
    "\n",
    "test_X = test_X_all\n",
    "test_Y = test_Y_01_all\n",
    "\n",
    "print('Train : Test = ' + str(train_X.shape[0]) + ' : ' + str(test_X.shape[0]))"
   ]
  },
  {
   "cell_type": "markdown",
   "metadata": {},
   "source": [
    "## Model Setting"
   ]
  },
  {
   "cell_type": "code",
   "execution_count": 45,
   "metadata": {},
   "outputs": [
    {
     "name": "stdout",
     "output_type": "stream",
     "text": [
      "Requirement already satisfied: torch in d:\\software\\users\\khchoi\\anaconda3\\lib\\site-packages (2.3.1)\n",
      "Requirement already satisfied: filelock in d:\\software\\users\\khchoi\\anaconda3\\lib\\site-packages (from torch) (3.13.1)\n",
      "Requirement already satisfied: typing-extensions>=4.8.0 in d:\\software\\users\\khchoi\\anaconda3\\lib\\site-packages (from torch) (4.9.0)\n",
      "Requirement already satisfied: sympy in d:\\software\\users\\khchoi\\anaconda3\\lib\\site-packages (from torch) (1.12)\n",
      "Requirement already satisfied: networkx in d:\\software\\users\\khchoi\\anaconda3\\lib\\site-packages (from torch) (3.1)\n",
      "Requirement already satisfied: jinja2 in d:\\software\\users\\khchoi\\anaconda3\\lib\\site-packages (from torch) (3.1.3)\n",
      "Requirement already satisfied: fsspec in d:\\software\\users\\khchoi\\anaconda3\\lib\\site-packages (from torch) (2023.10.0)\n",
      "Requirement already satisfied: mkl<=2021.4.0,>=2021.1.1 in d:\\software\\users\\khchoi\\anaconda3\\lib\\site-packages (from torch) (2021.4.0)\n",
      "Requirement already satisfied: intel-openmp==2021.* in d:\\software\\users\\khchoi\\anaconda3\\lib\\site-packages (from mkl<=2021.4.0,>=2021.1.1->torch) (2021.4.0)\n",
      "Requirement already satisfied: tbb==2021.* in d:\\software\\users\\khchoi\\anaconda3\\lib\\site-packages (from mkl<=2021.4.0,>=2021.1.1->torch) (2021.13.0)\n",
      "Requirement already satisfied: MarkupSafe>=2.0 in d:\\software\\users\\khchoi\\anaconda3\\lib\\site-packages (from jinja2->torch) (2.1.3)\n",
      "Requirement already satisfied: mpmath>=0.19 in d:\\software\\users\\khchoi\\anaconda3\\lib\\site-packages (from sympy->torch) (1.3.0)\n"
     ]
    }
   ],
   "source": [
    "!pip install torch"
   ]
  },
  {
   "cell_type": "code",
   "execution_count": 46,
   "metadata": {},
   "outputs": [
    {
     "name": "stdout",
     "output_type": "stream",
     "text": [
      "cpu\n",
      "WirelessModel(\n",
      "  (layer1): Linear(in_features=256, out_features=491, bias=False)\n",
      "  (bn1): BatchNorm1d(491, eps=1e-05, momentum=0.1, affine=True, track_running_stats=True)\n",
      "  (layer2): Linear(in_features=491, out_features=491, bias=False)\n",
      "  (bn2): BatchNorm1d(491, eps=1e-05, momentum=0.1, affine=True, track_running_stats=True)\n",
      "  (layer3): Linear(in_features=491, out_features=16, bias=False)\n",
      "  (bn3): BatchNorm1d(16, eps=1e-05, momentum=0.1, affine=True, track_running_stats=True)\n",
      ")\n"
     ]
    }
   ],
   "source": [
    "import torch\n",
    "import torch.nn as nn\n",
    "import torch.nn.functional as F\n",
    "\n",
    "from torch.optim.adam import Adam\n",
    "\n",
    "device = \"cuda\" if torch.cuda.is_available() else \"cpu\"\n",
    "print(device)\n",
    "\n",
    "class WirelessModel (nn.Module):\n",
    "    def __init__(self, numberOfAntenna):\n",
    "        super(WirelessModel, self).__init__()\n",
    "\n",
    "        # layer 1\n",
    "        self.layer1 = nn.Linear(numberOfAntenna*numberOfAntenna, 491, bias=False)\n",
    "        self.bn1 = nn.BatchNorm1d(491)\n",
    "\n",
    "        # layer 2\n",
    "        self.layer2 = nn.Linear(491, 491, bias=False)\n",
    "        self.bn2 = nn.BatchNorm1d(491)\n",
    "\n",
    "        # layer 3\n",
    "        self.layer3 = nn.Linear(491, 16, bias=False)\n",
    "        self.bn3 = nn.BatchNorm1d(16)\n",
    "\n",
    "        nn.init.kaiming_normal_(self.layer1.weight, mode='fan_in', nonlinearity='relu')\n",
    "        nn.init.kaiming_normal_(self.layer2.weight, mode='fan_in', nonlinearity='relu')\n",
    "        nn.init.kaiming_normal_(self.layer3.weight, mode='fan_in', nonlinearity='relu')\n",
    "\n",
    "    def forward(self, x):\n",
    "        # layer 1\n",
    "        x = self.layer1(x)\n",
    "        x = self.bn1(x)\n",
    "        x = F.relu(x)\n",
    "\n",
    "        # layer 2\n",
    "        x = self.layer2(x)\n",
    "        x = self.bn2(x)\n",
    "        x = F.relu(x)\n",
    "\n",
    "        # layer 3\n",
    "        x = self.layer3(x)\n",
    "        x = self.bn3(x)\n",
    "        x = torch.sigmoid(x)\n",
    "\n",
    "        return x\n",
    "\n",
    "wirelessModel = WirelessModel(16)\n",
    "\n",
    "wirelessModel.to(device)\n",
    "print(wirelessModel)"
   ]
  },
  {
   "cell_type": "code",
   "execution_count": 47,
   "metadata": {},
   "outputs": [
    {
     "name": "stdout",
     "output_type": "stream",
     "text": [
      "Requirement already satisfied: torchsummary in d:\\software\\users\\khchoi\\anaconda3\\lib\\site-packages (1.5.1)\n",
      "----------------------------------------------------------------\n",
      "        Layer (type)               Output Shape         Param #\n",
      "================================================================\n",
      "            Linear-1                  [-1, 491]         125,696\n",
      "       BatchNorm1d-2                  [-1, 491]             982\n",
      "            Linear-3                  [-1, 491]         241,081\n",
      "       BatchNorm1d-4                  [-1, 491]             982\n",
      "            Linear-5                   [-1, 16]           7,856\n",
      "       BatchNorm1d-6                   [-1, 16]              32\n",
      "================================================================\n",
      "Total params: 376,629\n",
      "Trainable params: 376,629\n",
      "Non-trainable params: 0\n",
      "----------------------------------------------------------------\n",
      "Input size (MB): 0.00\n",
      "Forward/backward pass size (MB): 0.02\n",
      "Params size (MB): 1.44\n",
      "Estimated Total Size (MB): 1.45\n",
      "----------------------------------------------------------------\n"
     ]
    }
   ],
   "source": [
    "!pip install torchsummary\n",
    "\n",
    "from torchsummary import summary\n",
    "summary(wirelessModel, (numberOfAntenna * numberOfAntenna,))"
   ]
  },
  {
   "cell_type": "markdown",
   "metadata": {},
   "source": [
    "## Learning Fully-Connected"
   ]
  },
  {
   "cell_type": "markdown",
   "metadata": {},
   "source": [
    "### Learning"
   ]
  },
  {
   "cell_type": "code",
   "execution_count": 48,
   "metadata": {},
   "outputs": [
    {
     "name": "stdout",
     "output_type": "stream",
     "text": [
      "Epoch 1/25, Loss: 0.577428910556512, Accuracy: 0.006375, Precision: 0.7549970772423151\n",
      "Epoch 2/25, Loss: 0.5219409186488543, Accuracy: 0.008925, Precision: 0.7645679690880177\n",
      "Epoch 3/25, Loss: 0.5066997084862147, Accuracy: 0.010425, Precision: 0.7663801001573032\n",
      "Epoch 4/25, Loss: 0.4962206538480062, Accuracy: 0.011825, Precision: 0.7669078001038835\n",
      "Epoch 5/25, Loss: 0.48831693763152145, Accuracy: 0.0132, Precision: 0.767663681139441\n",
      "Epoch 6/25, Loss: 0.4820724361217939, Accuracy: 0.013775, Precision: 0.7685475313411348\n",
      "Epoch 7/25, Loss: 0.47698870515212033, Accuracy: 0.014625, Precision: 0.7696701368248948\n",
      "Epoch 8/25, Loss: 0.4727836619776029, Accuracy: 0.015225, Precision: 0.7705764193180877\n",
      "Epoch 9/25, Loss: 0.46928348092314526, Accuracy: 0.0159, Precision: 0.7714875804555803\n",
      "Epoch 10/25, Loss: 0.46637118332661115, Accuracy: 0.016025, Precision: 0.7722588103977976\n",
      "Epoch 11/25, Loss: 0.4644588869733688, Accuracy: 0.0159, Precision: 0.7721654086808236\n",
      "Epoch 12/25, Loss: 0.4641626002887885, Accuracy: 0.016175, Precision: 0.7723577136175164\n",
      "Epoch 13/25, Loss: 0.46390163283317515, Accuracy: 0.016175, Precision: 0.7725522224400028\n",
      "Epoch 14/25, Loss: 0.4636444558699926, Accuracy: 0.016375, Precision: 0.7724624540102751\n",
      "Epoch 15/25, Loss: 0.46342996859397645, Accuracy: 0.016275, Precision: 0.7725765129577431\n",
      "Epoch 16/25, Loss: 0.463226766903431, Accuracy: 0.01605, Precision: 0.7726247236365915\n",
      "Epoch 17/25, Loss: 0.46320502060728197, Accuracy: 0.016325, Precision: 0.7725071490878954\n",
      "Epoch 18/25, Loss: 0.46317962262874995, Accuracy: 0.01635, Precision: 0.772602045018407\n",
      "Epoch 19/25, Loss: 0.4631537584731212, Accuracy: 0.016375, Precision: 0.7726180414989096\n",
      "Epoch 20/25, Loss: 0.4631221699217955, Accuracy: 0.01605, Precision: 0.7724904813634932\n",
      "Epoch 21/25, Loss: 0.4631108272152069, Accuracy: 0.01615, Precision: 0.7725682806179656\n",
      "Epoch 22/25, Loss: 0.4631144448923759, Accuracy: 0.0162, Precision: 0.7725752699310122\n",
      "Epoch 23/25, Loss: 0.4631131428747605, Accuracy: 0.0163, Precision: 0.7725576351928243\n",
      "Epoch 24/25, Loss: 0.463123679963442, Accuracy: 0.01625, Precision: 0.7725161728294965\n",
      "Epoch 25/25, Loss: 0.46311499000741885, Accuracy: 0.016125, Precision: 0.7725021257142229\n",
      "Test Loss: 22.680469512939453, Test Accuracy: 0.016125, Test Precision: 0.7725021257142229\n"
     ]
    }
   ],
   "source": [
    "# after setting train_X_all, train_Y_all, and so on\n",
    "\n",
    "import torch.optim as optim\n",
    "from torch.utils.data import DataLoader, TensorDataset\n",
    "from torch.optim.lr_scheduler import LambdaLR\n",
    "from sklearn.metrics import accuracy_score, precision_score\n",
    "\n",
    "train_dataset = TensorDataset(train_X, train_Y)\n",
    "train_loader = DataLoader(train_dataset, batch_size=1000, shuffle=True)\n",
    "\n",
    "test_dataset = TensorDataset(test_X, test_Y)\n",
    "test_loader = DataLoader(test_dataset, batch_size=1000, shuffle=False)\n",
    "\n",
    "def piecewise_scheduler_fn(epoch):\n",
    "    if epoch < 10:\n",
    "        return 0.005\n",
    "    elif epoch < 15:\n",
    "        return 0.0005\n",
    "    elif epoch < 20:\n",
    "        return 0.00005\n",
    "    else:\n",
    "        return 0.000005\n",
    "\n",
    "criterion = nn.BCELoss()\n",
    "optimizer = optim.Adam(wirelessModel.parameters(), lr=0.01)\n",
    "scheduler = LambdaLR(optimizer, lr_lambda=piecewise_scheduler_fn)\n",
    "\n",
    "# 훈련\n",
    "num_epochs = 25\n",
    "history = {'loss': [], 'accuracy': [], 'precision': []}\n",
    "\n",
    "for epoch in range(num_epochs):\n",
    "    wirelessModel.train()\n",
    "    running_loss = 0.0\n",
    "    for inputs, labels in train_loader:\n",
    "        optimizer.zero_grad()\n",
    "        outputs = wirelessModel(inputs)\n",
    "        loss = criterion(outputs, labels)\n",
    "        loss.backward()\n",
    "        optimizer.step()\n",
    "        running_loss += loss.item()\n",
    "    \n",
    "    scheduler.step()\n",
    "    history['loss'].append(running_loss / len(train_loader))\n",
    "    \n",
    "    # 검증\n",
    "    wirelessModel.eval()\n",
    "    all_preds = []\n",
    "    all_labels = []\n",
    "    with torch.no_grad():\n",
    "        for inputs, labels in test_loader:\n",
    "            outputs = wirelessModel(inputs)\n",
    "            preds = outputs.round()\n",
    "            all_preds.append(preds)\n",
    "            all_labels.append(labels)\n",
    "    \n",
    "    all_preds = torch.cat(all_preds)\n",
    "    all_labels = torch.cat(all_labels)\n",
    "    test_acc = accuracy_score(all_labels, all_preds)\n",
    "    test_precision = precision_score(all_labels, all_preds, average='macro') # 평균 옵션은 필요에 따라 조정\n",
    "    \n",
    "    history['accuracy'].append(test_acc)\n",
    "    history['precision'].append(test_precision)\n",
    "\n",
    "    print(f\"Epoch {epoch+1}/{num_epochs}, Loss: {running_loss/len(train_loader)}, Accuracy: {test_acc}, Precision: {test_precision}\")\n",
    "\n",
    "# 최종 평가\n",
    "wirelessModel.eval()\n",
    "all_preds = []\n",
    "all_labels = []\n",
    "with torch.no_grad():\n",
    "    for inputs, labels in test_loader:\n",
    "        outputs = wirelessModel(inputs)\n",
    "        preds = outputs.round()\n",
    "        all_preds.append(preds)\n",
    "        all_labels.append(labels)\n",
    "\n",
    "all_preds = torch.cat(all_preds)\n",
    "all_labels = torch.cat(all_labels)\n",
    "test_loss = criterion(all_preds, all_labels).item()\n",
    "test_acc = accuracy_score(all_labels, all_preds)\n",
    "test_precision = precision_score(all_labels, all_preds, average='macro')\n",
    "\n",
    "print(f\"Test Loss: {test_loss}, Test Accuracy: {test_acc}, Test Precision: {test_precision}\")\n"
   ]
  },
  {
   "cell_type": "code",
   "execution_count": 49,
   "metadata": {},
   "outputs": [],
   "source": [
    "torch.save(wirelessModel.state_dict(), PYTORCHMODEL_DIR + 'wirelessmodel.pt')"
   ]
  }
 ],
 "metadata": {
  "kernelspec": {
   "display_name": "Python 3 (ipykernel)",
   "language": "python",
   "name": "python3"
  },
  "language_info": {
   "codemirror_mode": {
    "name": "ipython",
    "version": 3
   },
   "file_extension": ".py",
   "mimetype": "text/x-python",
   "name": "python",
   "nbconvert_exporter": "python",
   "pygments_lexer": "ipython3",
   "version": "3.11.7"
  }
 },
 "nbformat": 4,
 "nbformat_minor": 4
}
